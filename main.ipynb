{
 "cells": [
  {
   "cell_type": "code",
   "execution_count": 2,
   "metadata": {},
   "outputs": [],
   "source": [
    "from dotenv import load_dotenv\n",
    "from googleapiclient.discovery import build\n",
    "import os\n",
    "load_dotenv()\n",
    "import pandas as pd\n",
    "API_KEY = os.getenv('API_KEY')"
   ]
  },
  {
   "cell_type": "code",
   "execution_count": 3,
   "metadata": {},
   "outputs": [],
   "source": [
    "youtube = build('youtube', 'v3', developerKey=API_KEY)"
   ]
  },
  {
   "cell_type": "code",
   "execution_count": 4,
   "metadata": {},
   "outputs": [],
   "source": [
    "channel_ids  = ['UCvPGx8qh8AkrFZW06tESvaA', #DotDager\n",
    "    'UC4FHiPgS1KXkUMx3dxBUtPg', #HolaMundo\n",
    "                # 'UCjXAQ-cayM4mIZmUZKMFW_w', #Programador X\n",
    "                ]"
   ]
  },
  {
   "cell_type": "markdown",
   "metadata": {},
   "source": [
    "# Obtener id lista de reproducción videos."
   ]
  },
  {
   "cell_type": "code",
   "execution_count": 5,
   "metadata": {},
   "outputs": [
    {
     "data": {
      "text/plain": [
       "['UCvPGx8qh8AkrFZW06tESvaA', 'UC4FHiPgS1KXkUMx3dxBUtPg']"
      ]
     },
     "execution_count": 5,
     "metadata": {},
     "output_type": "execute_result"
    }
   ],
   "source": [
    "channel_ids"
   ]
  },
  {
   "cell_type": "code",
   "execution_count": 6,
   "metadata": {},
   "outputs": [],
   "source": [
    "request = youtube.channels().list(\n",
    "    part='snippet, contentDetails, statistics',\n",
    "    id=channel_ids\n",
    ")\n",
    "response = request.execute()"
   ]
  },
  {
   "cell_type": "code",
   "execution_count": 7,
   "metadata": {},
   "outputs": [
    {
     "data": {
      "text/html": [
       "<div>\n",
       "<style scoped>\n",
       "    .dataframe tbody tr th:only-of-type {\n",
       "        vertical-align: middle;\n",
       "    }\n",
       "\n",
       "    .dataframe tbody tr th {\n",
       "        vertical-align: top;\n",
       "    }\n",
       "\n",
       "    .dataframe thead th {\n",
       "        text-align: right;\n",
       "    }\n",
       "</style>\n",
       "<table border=\"1\" class=\"dataframe\">\n",
       "  <thead>\n",
       "    <tr style=\"text-align: right;\">\n",
       "      <th></th>\n",
       "      <th>title</th>\n",
       "      <th>country</th>\n",
       "      <th>subscriberCount</th>\n",
       "      <th>id</th>\n",
       "      <th>uploads</th>\n",
       "      <th>viewCount</th>\n",
       "      <th>videoCount</th>\n",
       "    </tr>\n",
       "  </thead>\n",
       "  <tbody>\n",
       "    <tr>\n",
       "      <th>0</th>\n",
       "      <td>Dot Dager</td>\n",
       "      <td>AR</td>\n",
       "      <td>52200</td>\n",
       "      <td>UCvPGx8qh8AkrFZW06tESvaA</td>\n",
       "      <td>UUvPGx8qh8AkrFZW06tESvaA</td>\n",
       "      <td>1424225</td>\n",
       "      <td>41</td>\n",
       "    </tr>\n",
       "    <tr>\n",
       "      <th>1</th>\n",
       "      <td>HolaMundo</td>\n",
       "      <td>NZ</td>\n",
       "      <td>768000</td>\n",
       "      <td>UC4FHiPgS1KXkUMx3dxBUtPg</td>\n",
       "      <td>UU4FHiPgS1KXkUMx3dxBUtPg</td>\n",
       "      <td>44916689</td>\n",
       "      <td>368</td>\n",
       "    </tr>\n",
       "  </tbody>\n",
       "</table>\n",
       "</div>"
      ],
      "text/plain": [
       "       title country subscriberCount                        id  \\\n",
       "0  Dot Dager      AR           52200  UCvPGx8qh8AkrFZW06tESvaA   \n",
       "1  HolaMundo      NZ          768000  UC4FHiPgS1KXkUMx3dxBUtPg   \n",
       "\n",
       "                    uploads viewCount videoCount  \n",
       "0  UUvPGx8qh8AkrFZW06tESvaA   1424225         41  \n",
       "1  UU4FHiPgS1KXkUMx3dxBUtPg  44916689        368  "
      ]
     },
     "execution_count": 7,
     "metadata": {},
     "output_type": "execute_result"
    }
   ],
   "source": [
    "info_channels = []\n",
    "for item in response.get('items', []):\n",
    "    channel_info = {\n",
    "        'title': item['snippet']['title'],\n",
    "        'country': item['snippet']['country'],\n",
    "        'subscriberCount': item['statistics']['subscriberCount'],\n",
    "        'id': item['id'],\n",
    "        'uploads': item['contentDetails']['relatedPlaylists']['uploads'],\n",
    "        'viewCount': item['statistics']['viewCount'],\n",
    "        'subscriberCount': item['statistics']['subscriberCount'],\n",
    "        'videoCount': item['statistics']['videoCount'],\n",
    "    }\n",
    "    info_channels.append(channel_info)\n",
    "df = pd.DataFrame(info_channels)\n",
    "df"
   ]
  },
  {
   "cell_type": "markdown",
   "metadata": {},
   "source": [
    "# Obtener id de videos."
   ]
  },
  {
   "cell_type": "code",
   "execution_count": 8,
   "metadata": {},
   "outputs": [
    {
     "data": {
      "text/plain": [
       "{'kind': 'youtube#playlistItemListResponse',\n",
       " 'etag': 'spGvEzLAo9C5NDQWDOJucNg-32M',\n",
       " 'nextPageToken': 'EAAafVBUOkNBVWlFRGM0UkRVNU9UZzROVFkzUVRsRlJqTW9BVWl6MnFhanFQV0ZBMUFCV2pnaVEyaG9WbFpZV2xGU00yYzBZMWRuTkZGWGRIbFNiSEJZVFVSYU1GSldUakpaVlVWVFJFRnFVblJrZFhoQ2FFTTBlWEZoTjBGbkln',\n",
       " 'items': [{'kind': 'youtube#playlistItem',\n",
       "   'etag': 'n3BsKMqm6c_x6EFG0eAtYUOCQHw',\n",
       "   'id': 'VVV2UEd4OHFoOEFrckZaVzA2dEVTdmFBLkY5c0xrM0VkTFA0',\n",
       "   'contentDetails': {'videoId': 'F9sLk3EdLP4',\n",
       "    'videoPublishedAt': '2024-05-05T01:03:12Z'}},\n",
       "  {'kind': 'youtube#playlistItem',\n",
       "   'etag': 'hSvi6zdA59lb_4bongLLGyhKQFA',\n",
       "   'id': 'VVV2UEd4OHFoOEFrckZaVzA2dEVTdmFBLkhMQzBZWFZjNW1B',\n",
       "   'contentDetails': {'videoId': 'HLC0YXVc5mA',\n",
       "    'videoPublishedAt': '2024-05-05T00:50:00Z'}},\n",
       "  {'kind': 'youtube#playlistItem',\n",
       "   'etag': 'xv6Tol0v5l4Scb8qHOhFC-Z_FdA',\n",
       "   'id': 'VVV2UEd4OHFoOEFrckZaVzA2dEVTdmFBLmNuY0k5XzNJbzJj',\n",
       "   'contentDetails': {'videoId': 'cncI9_3Io2c',\n",
       "    'videoPublishedAt': '2024-04-28T00:38:14Z'}},\n",
       "  {'kind': 'youtube#playlistItem',\n",
       "   'etag': 'lb0LimeKMlY1X27-c8tj8k-l-Ig',\n",
       "   'id': 'VVV2UEd4OHFoOEFrckZaVzA2dEVTdmFBLk54TXBtMTBZYmQ0',\n",
       "   'contentDetails': {'videoId': 'NxMpm10Ybd4',\n",
       "    'videoPublishedAt': '2024-04-22T01:36:54Z'}},\n",
       "  {'kind': 'youtube#playlistItem',\n",
       "   'etag': 'kUS4ZCLDd6MnfQ645Lzs55Zrli0',\n",
       "   'id': 'VVV2UEd4OHFoOEFrckZaVzA2dEVTdmFBLklaQVlBMzdLVUhr',\n",
       "   'contentDetails': {'videoId': 'IZAYA37KUHk',\n",
       "    'videoPublishedAt': '2024-04-17T17:35:06Z'}}],\n",
       " 'pageInfo': {'totalResults': 42, 'resultsPerPage': 5}}"
      ]
     },
     "execution_count": 8,
     "metadata": {},
     "output_type": "execute_result"
    }
   ],
   "source": [
    "request = youtube.playlistItems().list(\n",
    "    part=\"contentDetails\",\n",
    "    playlistId='UUvPGx8qh8AkrFZW06tESvaA'\n",
    ")\n",
    "response = request.execute()\n",
    "response"
   ]
  },
  {
   "cell_type": "code",
   "execution_count": null,
   "metadata": {},
   "outputs": [],
   "source": []
  },
  {
   "cell_type": "code",
   "execution_count": 9,
   "metadata": {},
   "outputs": [],
   "source": [
    "videoId_list = []\n",
    "\n",
    "while True:\n",
    "    # Procesar los elementos de la página actual\n",
    "    for item in response['items']:\n",
    "        videoId_list.append(item['contentDetails']['videoId'])\n",
    "\n",
    "    # Verificar si hay más páginas\n",
    "    if 'nextPageToken' in response:\n",
    "        # Si hay más páginas, solicitar la siguiente página\n",
    "        request = youtube.playlistItems().list(\n",
    "            part=\"contentDetails\",\n",
    "            playlistId='UUvPGx8qh8AkrFZW06tESvaA',\n",
    "            pageToken=response['nextPageToken']\n",
    "        )\n",
    "        response = request.execute()\n",
    "    else:\n",
    "        # Si no hay más páginas, salir del bucle\n",
    "        break\n",
    "\n",
    "# Ahora 'videoId_list' contiene todos los IDs de los videos de la lista de reproducción\n"
   ]
  },
  {
   "cell_type": "code",
   "execution_count": 10,
   "metadata": {},
   "outputs": [
    {
     "data": {
      "text/plain": [
       "42"
      ]
     },
     "execution_count": 10,
     "metadata": {},
     "output_type": "execute_result"
    }
   ],
   "source": [
    "len(videoId_list)"
   ]
  },
  {
   "cell_type": "markdown",
   "metadata": {},
   "source": [
    "# Obtener información de videos."
   ]
  },
  {
   "cell_type": "code",
   "execution_count": 28,
   "metadata": {},
   "outputs": [
    {
     "name": "stdout",
     "output_type": "stream",
     "text": [
      "[{'videoId': 'F9sLk3EdLP4', 'publishedAt': '2024-05-05T01:03:12Z', 'title': 'Falopa y programando un server DNS en C#  (parte 4)', 'description': 'Usamos CodeCrafters para hacer un server DNS con CSharp.\\nSi te copa la plataforma podés usar este link para unirte: https://app.codecrafters.io/join?via=MarianoVilla\\nSi no quieren poner la plata -entendible-, pueden hacer los proyectos sin modo interactivo con este repo: https://github.com/codecrafters-io/build-your-own-x\\n\\nAlgunos recursos copados para ahondar en DNS:\\n\\nEl RFC base:\\nhttps://datatracker.ietf.org/doc/html/rfc1035\\nIntro a DNS:\\nhttps://blog.bytebytego.com/p/a-crash-course-in-dns-domain-name\\nGuía más profunda de DNS:\\nhttps://github.com/EmilHernvall/dnsguide/blob/b52da3b32b27c81e5c6729ac14fe01fef8b1b593/chapter1.md\\nUn sitio muy interesante para buscar info:\\ngoogle.com\\n•·················•·················•\\r\\n\\r\\n00:00 Acá empieza el stream\\n05:15 Q&A: dónde aprender Git, cursos, lógica\\n31:40 Lunfardo: un lenguaje de programación porteño\\n01:22:58 GitHub Copilot Workspace\\n01:38:44 DNS: nombres comprimidos y otras cositas\\n\\n\\n#programacion #aprenderaprogramar #csharp \\r\\n\\r\\nLinks.\\r\\n\\r\\nCanal secundario: @DagerLive\\r\\nCanal de cine/filosofía: @ElAntroDeDager \\r\\nCanal de musiquita: @DagerMusic \\r\\nDiscord server: https://discord.gg/4NFk6TamAB\\r\\nIG: https://www.instagram.com/dager.32/\\r\\nTwitch: https://www.twitch.tv/dagerxiv', 'channelTitle': 'Dot Dager', 'tags': ['programación', 'aprender a programar', 'programador argentina', 'dager', 'dot dager', 'zachatronics', 'juegos para aprender a programar', 'dns'], 'categoryId': '24', 'liveBroadcastContent': 'none', 'xd': 'es-419', 'duration': 'PT3H47M44S', 'dimension': '2d', 'definition': 'hd', 'viewCount': '3501', 'likeCount': '218', 'commentCount': '3'}, {'videoId': 'HLC0YXVc5mA', 'publishedAt': '2024-05-05T00:50:00Z', 'title': '¡Falopa! Ahora que tengo tu atención... ¡Falopa!', 'description': 'Esto es una descripción.\\n\\n•·················•·················•\\r\\n\\r\\n00:00 Acá empieza el stream\\n00:05 Acá sigue\\n\\r\\n#programacion #aprenderaprogramar #csharp \\r\\n\\r\\nLinks.\\r\\n\\r\\nCanal secundario: @DagerLive\\r\\nCanal de cine/filosofía: @ElAntroDeDager \\r\\nCanal de musiquita: @DagerMusic \\r\\nDiscord server: https://discord.gg/4NFk6TamAB\\r\\nIG: https://www.instagram.com/dager.32/\\r\\nTwitch: https://www.twitch.tv/dagerxiv', 'channelTitle': 'Dot Dager', 'tags': ['programación', 'aprender a programar', 'programador argentina', 'dager', 'dot dager', 'zachatronics', 'juegos para aprender a programar', 'dns'], 'categoryId': '24', 'liveBroadcastContent': 'upcoming', 'xd': 'es-419', 'duration': 'P0D', 'dimension': '2d', 'definition': 'sd', 'viewCount': '0', 'likeCount': '0', 'commentCount': '0'}, {'videoId': 'cncI9_3Io2c', 'publishedAt': '2024-04-28T00:38:14Z', 'title': 'Falopa, Q&A y... eso.', 'description': 'Esto es una descripción.\\n\\n•·················•·················•\\r\\n\\r\\n00:00 Acá empieza el stream\\n10:26 El pasado oscuro de Microsoft\\n16:55 ¿En qué te gastaste tu primer sueldo de programador?\\n18:53 ¿Qué PC recomiendo para programar?\\n19:26 ¿Alguna vez te pidieron hacer una página nopor?\\n20:03 Entrevistarse\\n20:45 ¿Qué significa falopa?\\n21:05 Ayer compré un maní\\n27:19 A Jesús le mide 3CM\\n27:28 ¿Qué opinas de MAUI?\\n28:13 Artículo: Law of Leaky Abstractions\\n56:01 ¿Por qué uso Windows?\\n56:37 De matemáticas a analista a dev\\n58:05 El chat me cambia el wallpaper\\n01:05:51 ¿Vale la pena terminar la carrera?\\n01:12:29 ¿Cuál fue mi último PR?\\n01:22:39 Análisis de sistemas\\n01:24:30 Programar drogado\\n01:26:49 Bandas favoritas y musiquita\\n01:45:51 Cuánto gana un dev en EEUU\\n01:49:35 Cómo conseguí laburo en USA\\n02:02:35 Gentleman Programming\\n02:12:16 ¿Cómo es ser lead?\\n02:20:49 USD vs. pesos atado a la inflación\\n02:21:00 ¿Primero inglés, luego programación?\\n02:21:51 ¿Arquitectura de sistemas?\\n02:34:37 ¿Volvieron los trabajos?\\n02:35:59 Entrar al mercado laboral con sólo teoría\\n02:37:39 El desastre de los bootcamps, y NoCountry\\n02:58:06 Me aburrí de poner stamps, el resto del stream empieza acá\\n\\n\\n\\n\\n\\n\\n\\r\\n#programacion #aprenderaprogramar #csharp \\r\\n\\r\\nLinks.\\r\\n\\r\\nCanal secundario: @DagerLive\\r\\nCanal de cine/filosofía: @ElAntroDeDager \\r\\nCanal de musiquita: @DagerMusic \\r\\nDiscord server: https://discord.gg/4NFk6TamAB\\r\\nIG: https://www.instagram.com/dager.32/\\r\\nTwitch: https://www.twitch.tv/dagerxiv', 'channelTitle': 'Dot Dager', 'tags': ['programación', 'aprender a programar', 'programador argentina', 'dager', 'dot dager', 'zachatronics', 'juegos para aprender a programar', 'dns'], 'categoryId': '24', 'liveBroadcastContent': 'none', 'xd': 'es-419', 'duration': 'PT3H17M55S', 'dimension': '2d', 'definition': 'hd', 'viewCount': '4684', 'likeCount': '414', 'commentCount': '11'}, {'videoId': 'NxMpm10Ybd4', 'publishedAt': '2024-04-22T01:36:54Z', 'title': \"Vamo' a (charlar y) programar un server DNS en C# (parte 3) | Live coding\", 'description': 'Usamos CodeCrafters para hacer un server DNS con CSharp.\\r\\nSi te copa la plataforma podés usar este link para unirte: https://app.codecrafters.io/join?via=MarianoVilla\\r\\nSi no quieren poner la plata -entendible-, pueden hacer los proyectos sin modo interactivo con este repo: https://github.com/codecrafters-io/build-your-own-x\\r\\n\\r\\nAlgunos recursos copados para ahondar en DNS:\\r\\n\\r\\nEl RFC base:\\r\\nhttps://datatracker.ietf.org/doc/html/rfc1035\\r\\nIntro a DNS:\\r\\nhttps://blog.bytebytego.com/p/a-crash-course-in-dns-domain-name\\r\\nGuía más profunda de DNS:\\r\\nhttps://github.com/EmilHernvall/dnsguide/blob/b52da3b32b27c81e5c6729ac14fe01fef8b1b593/chapter1.md\\r\\nUn sitio muy interesante para buscar info:\\r\\ngoogle.com\\r\\n•·················•·················•\\r\\n\\r\\n00:00 Guitarrita y charla random\\n12:21 BOOOOCCAAAABOCABOCA\\n12:45 Q&A: hardware, inversiones, universidad, CSharp\\n01:02:56 tokyospliff\\n01:05:33 Q&A: Cursos, videos viejos\\n01:16:39 Q&A: Entrevista técnica C#.NET\\n01:19:43 Forobardo en r/devsarg, ¿cuál es el rol de un senior?\\n01:43:20 Hackeo Renaper\\n01:46:01 Llama 3\\n01:48:52 DNS: configurando logger (y cómo cambiar templates en Vistual Studio)\\n01:59:51 DNS: refactoring\\n02:07:51 DNS: Answer y Resource Record\\n03:42:16 DNS: De hecho hacemos lo que nos pidieron\\n04:01:42 DNS: Agregando el header a la respuesta\\n04:11:17 DNS: Intentamos (y fallamos el stage 6)\\n04:14:04 Q&A final, guitarrita y fafafa\\n\\n\\r\\n#programacion #aprenderaprogramar #csharp \\r\\n\\r\\nLinks.\\r\\n\\r\\nCanal secundario: @DagerLive \\nCanal de cine/filosofía: @ElAntroDeDager \\nCanal de musiquita: @DagerMusic \\nDiscord server: https://discord.gg/4NFk6TamAB\\r\\nIG: https://www.instagram.com/dager.32/\\r\\nTwitch: https://www.twitch.tv/dagerxiv', 'channelTitle': 'Dot Dager', 'tags': ['programación', 'aprender a programar', 'programador argentina', 'dager', 'dot dager', 'zachatronics', 'games', 'juegos para aprender a programar', 'dns', 'dager dns', 'curso de programacion', 'programar es dificil'], 'categoryId': '24', 'liveBroadcastContent': 'none', 'xd': 'es-419', 'duration': 'PT4H19M25S', 'dimension': '2d', 'definition': 'hd', 'viewCount': '5106', 'likeCount': '331', 'commentCount': '3'}, {'videoId': 'IZAYA37KUHk', 'publishedAt': '2024-04-17T17:35:06Z', 'title': 'C# no es un lenguaje de backend.', 'description': 'Bueno, sí, CSharp es un lenguaje de back-end, ¿OK? Tranquilate. Quería una forma graciosa de llamar tu atención a Blazor, un framework de Microsoft para desarrollo web que está muy bonito -pero no tanto como vos.\\n\\nDejá de leer la descripción de los videos, la vida es muy corta.\\n\\nRecursos.\\nPrimero y principal, los docs de MS, que son muy buenos: https://learn.microsoft.com/en-us/aspnet/core/blazor/?view=aspnetcore-8.0\\nSegundo y secundial, Blazor University, super friendly: https://blazor-university.com/overview/\\nTercero y tercerial, Patrick God, que además de tener alto nombre chad tiene excelentes videos sobre Blazor (incluyendo guidelines sobre arquitectura y tal): \\n@PatrickGod \\nPor último... y ultimal, Tim Corey, que tiene recursos de Blazor y otra enormidad de tópicos de .NET y C#: @IAmTimCorey \\n\\n00:00 No me linches\\n00:42 Blazor\\n01:05 Overview del proyecto\\n02:33 Components y Razor syntax\\n04:27 Estado y param binding\\n05:36 Ruteo y navegación\\n06:50 Render modes (intro)\\n07:38 Render modes (None)\\n08:03 Render modes (Server)\\n09:14 Render modes (WebAssembly)\\n11:23 Interactividad por componente\\n11:41 ¿Dónde va mi código?\\n12:10 Pero bueno, chau\\n\\n•·················•·················•\\n\\nLinks.\\nCanal secundario: @DagerLive \\nCanal de cine/filosofía: @ElAntroDeDager@ElAntroDeDager \\nCanal de musiquita: @DagerMusic \\nTwitch: https://www.twitch.tv/dagerxiv\\nDiscord: https://discord.gg/4NFk6TamAB\\nIG: https://www.instagram.com/dager.32/\\n\\n#programacion #csharp #blazor', 'channelTitle': 'Dot Dager', 'tags': ['programación', 'aprender a programar', 'programador argentina', 'dager', 'dot dager', 'dot dager programador', 'dot dager programación', 'blazor', 'blazor webassembly', 'blazor vs react', '.net', 'dotnet', 'dager c#', 'dager dot', 'dager csharp', '.net 8', 'desarrollo de software', 'introducción a la programación', 'blazor tutorial', 'blazor 2024', 'c# 2024', 'backend dev', 'visual studio'], 'categoryId': '24', 'liveBroadcastContent': 'none', 'xd': 'es-419', 'duration': 'PT12M40S', 'dimension': '2d', 'definition': 'hd', 'viewCount': '26579', 'likeCount': '2817', 'commentCount': '246'}, {'videoId': 'SiAJaFNYv2g', 'publishedAt': '2024-04-15T01:27:46Z', 'title': \"Vamo' a programar un server DNS en C# (parte 2) | Live coding\", 'description': 'Vamos a usar CodeCrafters para hacer un server DNS con CSharp.\\r\\nSi te copa la plataforma podés usar este link para unirte: https://app.codecrafters.io/join?via=MarianoVilla\\r\\nSi no quieren poner la plata -entendible-, pueden hacer los proyectos sin modo interactivo con este repo: https://github.com/codecrafters-io/build-your-own-x\\r\\n\\r\\nAlgunos recursos copados para ahondar en DNS:\\r\\n\\r\\nEl RFC base:\\r\\nhttps://datatracker.ietf.org/doc/html/rfc1035\\r\\nIntro a DNS:\\r\\nhttps://blog.bytebytego.com/p/a-crash-course-in-dns-domain-name\\r\\nGuía más profunda de DNS:\\r\\nhttps://github.com/EmilHernvall/dnsguide/blob/b52da3b32b27c81e5c6729ac14fe01fef8b1b593/chapter1.md\\r\\nUn sitio muy interesante para buscar info:\\r\\ngoogle.com\\r\\n•·················•·················•\\n\\n00:00 Q&A: Codecrafters, XZ hack, universidad, Arg\\n01:19:50 ¿Devin AI es fake?\\n01:36:54 Coffee time\\n01:45:55 Comentarios bizarros en código\\n01:54:20 DNS: repaso y bugfix\\n02:48:40 DNS: Question y refactoring\\n04:08:15 Condenados al éxito\\n4:12:10 Repos, repaso final y chau\\n\\r\\n#programacion #aprenderaprogramar #csharp \\r\\n\\r\\nLinks.\\r\\n\\r\\nCanal secundario: @DagerLive\\r\\nCanal de cine/filosofía: @ElAntroDeDager \\r\\nCanal de musiquita: @DagerMusic \\r\\nDiscord server: https://discord.gg/4NFk6TamAB\\r\\nIG: https://www.instagram.com/dager.32/\\r\\nTwitch: https://www.twitch.tv/dagerxiv', 'channelTitle': 'Dot Dager', 'tags': ['programación', 'aprender a programar', 'programador argentina', 'dager', 'dot dager', 'zachatronics', 'games', 'juegos para aprender a programar', 'dns', 'dager dns', 'curso de programacion', 'programar es dificil'], 'categoryId': '24', 'liveBroadcastContent': 'none', 'xd': 'es-419', 'duration': 'PT4H13M41S', 'dimension': '2d', 'definition': 'hd', 'viewCount': '6668', 'likeCount': '377', 'commentCount': '9'}, {'videoId': '2wfahAD_kWQ', 'publishedAt': '2024-04-08T00:55:57Z', 'title': \"Vamo' a programar un server DNS en C# (parte 1) | Live coding\", 'description': 'Vamos a usar CodeCrafters para hacer un server DNS con CSharp.\\nSi te copa la plataforma podés usar este link para unirte: https://app.codecrafters.io/join?via=MarianoVilla\\nSi no quieren poner la plata -entendible-, pueden hacer los proyectos sin modo interactivo con este repo: https://github.com/codecrafters-io/build-your-own-x\\n\\nAlgunos recursos copados para ahondar en DNS:\\n\\nEl RFC base:\\nhttps://datatracker.ietf.org/doc/html/rfc1035\\nIntro a DNS:\\nhttps://blog.bytebytego.com/p/a-crash-course-in-dns-domain-name\\nGuía más profunda de DNS:\\nhttps://github.com/EmilHernvall/dnsguide/blob/b52da3b32b27c81e5c6729ac14fe01fef8b1b593/chapter1.md\\nUn sitio muy interesante para buscar info:\\ngoogle.com\\n•·················•·················•\\n\\n00:00 Dager llega tarde a su propio stream\\n04:25 Q&A: Minecraft, Dagerverse, wallpapers\\n30:15 Cómo hacer preguntas\\n41:15 Qué es DNS\\n01:09:41 Jhin conoce todos tus secretos\\n01:12:54 Agarramo la pala por fin\\n01:19:22 Server UDP\\n01:29:47 Q&A: cómo mejorar inglés\\n01:35:00 Estructura del mensaje DNS\\n01:49:50 Bitwise operators (intro)\\n02:15:33 Parseando el header\\n02:56:34 Creando una respuesta DNS\\n03:15:52 Test local (netstat y dig)\\n03:28:22 Test remoto (spoiler: anda)\\n03:32:32 Q&A: Elegir lenguaje/framework\\n03:39:29 Andate\\n\\n#programacion #aprenderaprogramar #csharp \\n\\nLinks.\\n\\nCanal secundario: @DagerLive\\nCanal de cine/filosofía: @ElAntroDeDager \\nCanal de musiquita: @DagerMusic \\nDiscord server: https://discord.gg/4NFk6TamAB\\nIG: https://www.instagram.com/dager.32/\\nTwitch: https://www.twitch.tv/dagerxiv', 'channelTitle': 'Dot Dager', 'tags': ['programación', 'aprender a programar', 'programador argentina', 'dager', 'dot dager', 'zachatronics', 'games', 'juegos para aprender a programar', 'dns', 'dager dns', 'curso de programacion', 'programar es dificil'], 'categoryId': '24', 'liveBroadcastContent': 'none', 'xd': 'es-419', 'duration': 'PT3H39M50S', 'dimension': '2d', 'definition': 'hd', 'viewCount': '6627', 'likeCount': '518', 'commentCount': '18'}, {'videoId': 't6w71ApsNa0', 'publishedAt': '2024-03-25T00:53:19Z', 'title': 'Juegos que te enseñan a programar o algo así.', 'description': '¿Será que podemos virguearla y aprender al mismo tiempo?\\n•·················•·················•\\n\\n00:00 Suno AI y el futuro del contenido\\n23:03 Hentai vs Furries\\n27:43 CodinGame\\n37:47 Robocode\\n49:56 Q&A\\n53:16 EXAPUNKS\\n2:09:41 TIS-100\\n2:31:23 Q&A\\n2:42:56 BitBurner\\n3:07:40 Q&A\\n3:08:12 Bandit (el mejor lejos)\\n3:30:44 Q&A y nv\\n\\nLinks.\\n\\nCanal secundario: @DagerLive\\nCanal de cine/filosofía: @ElAntroDeDager \\nCanal de musiquita: @DagerMusic \\nDiscord server: https://discord.gg/4NFk6TamAB\\nIG: https://www.instagram.com/dager.32/\\nTwitch: https://www.twitch.tv/dagerxiv', 'channelTitle': 'Dot Dager', 'tags': ['programación', 'aprender a programar', 'programador argentina', 'dager', 'dot dager', 'zachatronics', 'games', 'juegos para aprender a programar'], 'categoryId': '24', 'liveBroadcastContent': 'none', 'xd': 'es-419', 'duration': 'PT3H41M15S', 'dimension': '2d', 'definition': 'hd', 'viewCount': '6839', 'likeCount': '493', 'commentCount': '14'}, {'videoId': 'D93lvc2-kDk', 'publishedAt': '2024-03-18T00:25:21Z', 'title': 'La AI nos quitó el trabajo (otra vez) | Devin, Figure, falopa y más.', 'description': 'QTANTRABAJOOOOOOOOO\\n•·················•·················•\\n\\n00:00 Intro\\n07:11 Soundtrack oficial de la AI\\n08:40 Q&A random\\n12:40 ¿La IA puede reemplazar a los programadores?\\n14:24 r/Singularity\\n18:40 El verdadero peligro de la AI (ft. @RobertMilesAI)\\n46:40 Q&A: automatización, libros, economía, waifus\\n1:04:21 Devin AI\\n1:28:56 Figure 01 (demo)\\n1:46:46 Robot tirotero\\n1:53:02 Robots vaqueros de Elon Musk\\n1:54:12 Figure 01 (delirio mesiánico)\\n2:08:46 Q&A: programación en 5 años, ciberseguridad\\n2:14:23 Aitana Lopez, dead internet, humo\\n2:22:23 Worldcoin\\n2:52:59 Tutorial (que nadie pidió) de GitHub Pages\\n2:59:23 Q&A con Ulises\\n\\nLinks.\\n\\nCanal de cine/filosofía: @ElAntroDeDager \\nCanal de musiquita: @DagerMusic \\nDiscord server: https://discord.gg/4NFk6TamAB\\nIG: https://www.instagram.com/dager.32/\\nTwitch: https://www.twitch.tv/dagerxiv', 'channelTitle': 'Dot Dager', 'tags': ['programación', 'aprender a programar', 'programador argentina', 'dager', 'dot dager', 'ai', 'inteli', 'inteligencia artificial', 'stable diffusion', 'inteligencia artificial 2024', 'inteligencia artificial curso', 'stable diffusion tutorial', 'programación desde cero'], 'categoryId': '24', 'liveBroadcastContent': 'none', 'xd': 'es-419', 'duration': 'PT3H12M19S', 'dimension': '2d', 'definition': 'hd', 'viewCount': '6821', 'likeCount': '456', 'commentCount': '29'}, {'videoId': 'f9JwsSxp5NQ', 'publishedAt': '2024-03-14T21:36:39Z', 'title': 'Entrevista a un senior de StackOverflow.', 'description': 'Cualquier duda que te quede dejame una pregunta en los comentarios y te la reporto por duplicado.\\n\\n100% inspirado por @programmersarealsohuman5909 , lo quiero mucho.\\n\\n00:00 Acá empieza el video\\n01:10 Acá sigue\\n02:30 Por acá termina\\n•·················•·················•\\n\\nLinks.\\n\\nCanal de cine/filosofía:   @ElAntroDeDager  \\nCanal de musiquita:   @DagerMusic  \\nTwitch: https://www.twitch.tv/dagerxiv\\nDiscord: https://discord.gg/4NFk6TamAB\\nIG: https://www.instagram.com/dager.32/', 'channelTitle': 'Dot Dager', 'tags': ['programación', 'aprender a programar', 'programador argentina', 'dager', 'dot dager', 'dot dager programador', 'dot dager programación', 'stack overflow', 'stackoverflow', 'senior', 'senior programmer', 'programador senior', 'programmers', 'programmers are also human', 'programmers are also human stack overflow', 'desarrollo de software'], 'categoryId': '24', 'liveBroadcastContent': 'none', 'xd': 'es-419', 'duration': 'PT2M36S', 'dimension': '2d', 'definition': 'hd', 'viewCount': '9911', 'likeCount': '1449', 'commentCount': '136'}, {'videoId': 'Svm2CZQVUPg', 'publishedAt': '2024-03-11T17:39:42Z', 'title': 'C# no es para programar juegos.', 'description': 'Una de las cosas que escuché más de lo que me gustaría viniendo de devs junior es que C# es un lenguaje para hacer juegos. Más allá de que Unity es gigante, y CSharp es el lenguaje para scriptear en ese engine, me parece soberanamente injusto que los pibes se lleven esta impresión.\\n\\nO no. Capaz que estoy flasheando mierda y nadie cree realmente que C# sea solamente para desarrollar videojuegos, pero seamos honestos, si estás leyendo la descripción no tenés nada mejor que hacer, así que mirá el video. \\n\\nCon tus ojos. \\nEn serio, hay gente que mira los videos con los ojos de otra gente, pero no me cuenta la view así que mejor miralo con tus ojos. Y si le vas a mostrar el video a alguien, te recomiendo que... no lo hagas.\\n\\nChau, rajá de acá.\\n\\n00:00 Intro\\n00:53 Java vs. CSharp\\n01:48 Breve historia contemporánea de la semiología.\\n01:54 SDK y IDE (Visual Studio/VScode)\\n02:23 App de consola\\n02:55 Templates/Scaffolding\\n03:29 Program.cs\\n04:00 Ejecutar (dotnet run)\\n04:24 Tipado de CSharp\\n05:00 Clases\\n05:33 Namespaces\\n05:50 Otras cosas de POO\\n06:10 Package manager (NuGet)\\n06:37 ¿Apps de consola?\\n07:32 Chau\\n\\n•·················•·················•\\n\\nLinks.\\n\\nCanal de cine/filosofía:   @ElAntroDeDager  \\nCanal de musiquita:   @DagerMusic  \\nTwitch: https://www.twitch.tv/dagerxiv\\nDiscord: https://discord.gg/4NFk6TamAB\\nIG: https://www.instagram.com/dager.32/\\n\\n#programacion #csharp #dotnet', 'channelTitle': 'Dot Dager', 'tags': ['programación', 'aprender a programar', 'programador argentina', 'dager', 'dot dager', 'dot dager programador', 'dot dager programación', 'csharp', 'aprender a programar desde cero', '.net', 'dotnet', 'qué es c#', 'c# unity', 'unity', 'c# tutorial', 'c# explicado', 'c# dot dager', 'dot dager c#', 'dot danger'], 'categoryId': '24', 'liveBroadcastContent': 'none', 'xd': 'es-419', 'duration': 'PT8M5S', 'dimension': '2d', 'definition': 'hd', 'viewCount': '44129', 'likeCount': '5248', 'commentCount': '448'}, {'videoId': '-CnV_pLJv7E', 'publishedAt': '2024-03-11T00:45:59Z', 'title': 'Cómo hacer un server HTTP con Maizena y C# (Parte 4, estoy cansado, jefe)', 'description': 'Vamos a usar CodeCrafters para hacer un server HTTP con CSharp.\\nSi te copa la plataforma podés usar este link para unirte y tirarme una limosna: https://app.codecrafters.io/join?via=MarianoVilla\\nSi no quieren poner la plata -entendible-, pueden hacer los proyectos sin modo interactivo con este repo: https://github.com/codecrafters-io/build-your-own-x\\n\\n00:00 Q&A: Dragon Ball, sistemas, conseguir trabajo, etc\\n28:38 Recap, resumen de concurrencia\\n53:30 Q&A 2: Linux, AI, NVIDIA\\n01:10:20 Refactoring\\n1:32:31 GET de archivos\\n2:33:02 POST de archivos\\n3:17:42 Anda a la primera (como siempre)\\n3:22:59 Q&A 3: Lógica, tres virtudes, ser tonto\\n\\n#programacion #aprenderaprogramar #csharp \\n\\n•·················•·················•\\n\\nLinks.\\n\\nCanal de cine/filosofía: @ElAntroDeDager \\nCanal de musiquita: @DagerMusic \\nDiscord server: https://discord.gg/4NFk6TamAB\\nIG: https://www.instagram.com/dager.32/\\nTwitch: https://www.twitch.tv/dagerxiv', 'channelTitle': 'Dot Dager', 'tags': ['programación', 'aprender a programar', 'programador argentina', 'dager', 'dot dager', 'dot dager programador', 'dot dager programación', 'aprender a programar desde cero', 'programación orientada a objetos', 'la vida de un programador argentina', 'dot dagger html', 'dot dagger'], 'categoryId': '27', 'liveBroadcastContent': 'none', 'xd': 'es-419', 'duration': 'PT3H34M39S', 'dimension': '2d', 'definition': 'hd', 'viewCount': '3622', 'likeCount': '251', 'commentCount': '4'}, {'videoId': '3ut5_Og1XBY', 'publishedAt': '2024-03-04T00:40:21Z', 'title': 'Cómo hacer un server HTTP con Maizena y C# (Parte 3, la venganza de la venganza)', 'description': 'Vamos a usar CodeCrafters para hacer un server HTTP con CSharp.\\nSi te copa la plataforma podés usar este link para unirte y tirarme una limosna: https://app.codecrafters.io/join?via=MarianoVilla\\nSi no quieren poner la plata -entendible-, pueden hacer los proyectos sin modo interactivo con este repo: https://github.com/codecrafters-io/build-your-own-x\\n\\n00:00 Q&A: encontrar trabajo, CEO de NVIDIA, AI\\n31:52 Intro y recap\\n41:38 Refactor\\n01:28:40 Concurrencia I: Async/await\\n01:45:43 Concurrencia II: un Thread por request\\n01:53:25 Concurrencia III: Task.Run/ThreadPool\\n01:53:48 Concurrencia IV: Task.Run + Async/Await\\n02:20:30 Debuggeo infernal porque no pasan las pruebas\\n02:38:40 Usando Oha para benchmarkear (en mi máquina anda)\\n02:56:21 Lo resolvemos sin saber bien por qué\\n03:20:10 Q&A final: Java, recursos para aprender C#\\n\\n#programacion #aprenderaprogramar #csharp \\n\\n•·················•·················•\\n\\nLinks.\\n\\nCanal de cine/filosofía: @ElAntroDeDager \\nCanal de musiquita: @DagerMusic \\nDiscord server: https://discord.gg/4NFk6TamAB\\nIG: https://www.instagram.com/dager.32/\\nTwitch: https://www.twitch.tv/dagerxiv', 'channelTitle': 'Dot Dager', 'tags': ['programación', 'aprender a programar', 'programador argentina', 'dager', 'dot dager', 'dot dager programador', 'dot dager programación', 'aprender a programar desde cero', 'programación orientada a objetos', 'la vida de un programador argentina', 'dot dagger html', 'dot dagger'], 'categoryId': '27', 'liveBroadcastContent': 'none', 'xd': 'es-419', 'duration': 'PT3H32M55S', 'dimension': '2d', 'definition': 'hd', 'viewCount': '2938', 'likeCount': '222', 'commentCount': '5'}, {'videoId': 'ld4ATgKskH4', 'publishedAt': '2024-02-26T02:25:51Z', 'title': 'Cómo hacer un server HTTP con Maizena y C# (Parte 2, la venganza de la Maizena)', 'description': 'Vamos a usar CodeCrafters para hacer un server HTTP 1.1 (usando el RFC 2616) con CSharp. El último stream dejamos un código muy peneano, así que en este video mayormente nos dedicamos a modelizar (con OOP) el problema. Repasamos muchos conceptos de orientación a objetos y cómo se hacen en C#.\\nTambién demostramos otros conceptos, como extension methods, switch expressions, cómo implementar un ToString, etc.\\nSi no quieren poner la plata -entendible-, pueden hacer los proyectos sin modo interactivo con este repo: https://github.com/codecrafters-io/build-your-own-x\\n\\n00:00 Q&A inicial\\n37:45 Intro del tema y recap de dónde estamos\\n52:45 RFC y cómo modelizar el problema en OOP\\n01:04:23 TCP Server \\n01:37:22 HTTP Server\\n01:42:50 HTTP Message\\n02:06:29 HTTP Request\\n02:15:42 HTTP Response\\n02:20:48 Volvemo al HTTP Server\\n03:49:45 Implementando GET /\\n03:52:05 Implementando GET /echo\\n04:30:15 Suspenso (pusheamos)\\n04:35:45 Rusheamos el parseo de headers\\n04:54:46 Pusheamos y pasa de una GG izi desinstalen\\n04:57:25 Explicación final\\n\\n\\n\\n\\n•·················•·················•\\n\\nLinks.\\n\\nCanal de cine/filosofía: @ElAntroDeDager \\nCanal de musiquita: @DagerMusic \\nDiscord server: https://discord.gg/4NFk6TamAB\\nIG: https://www.instagram.com/dager.32/\\nTwitch: https://www.twitch.tv/dagerxiv', 'channelTitle': 'Dot Dager', 'tags': ['programación', 'aprender a programar', 'programador argentina', 'dager', 'dot dager'], 'categoryId': '27', 'liveBroadcastContent': 'none', 'xd': 'es-419', 'duration': 'PT5H1M36S', 'dimension': '2d', 'definition': 'hd', 'viewCount': '5244', 'likeCount': '380', 'commentCount': '12'}, {'videoId': 'q8ttiG4yih0', 'publishedAt': '2024-02-19T00:06:08Z', 'title': 'Cómo hacer un server HTTP con Maizena y C#.', 'description': 'Vamos a usar CodeCrafters para hacer un server HTTP con CSharp.\\nSi te copa la plataforma podés usar este link para unirte y tirarme una limosna: https://app.codecrafters.io/join?via=MarianoVilla\\nSi no quieren poner la plata -entendible-, pueden hacer los proyectos sin modo interactivo con este repo: https://github.com/codecrafters-io/build-your-own-x\\n\\n00:00 Preguntas y cosas random\\n23:30 Qué es HTTP\\n30:25 Sora AI\\n48:45 Presentación de CodeCrafters\\n54:19 Agarramos la pala por fin\\n55:08 Configurando el repo\\n01:00:22 Bindear un puerto TCP\\n01:06:34 Primera respuesta HTTP (200)\\n01:25:04 Segunda respuesta HTTP (404)\\n02:03:57 Devolviendo un body\\n02:50:54 Lo sacamos andando\\n02:57:40 Q&A final\\n\\n\\n•·················•·················•\\n\\nLinks.\\n\\nCanal de cine/filosofía: @ElAntroDeDager \\nCanal de musiquita: @DagerMusic \\nDiscord server: https://discord.gg/4NFk6TamAB\\nIG: https://www.instagram.com/dager.32/\\nTwitch: https://www.twitch.tv/dagerxiv', 'channelTitle': 'Dot Dager', 'tags': ['programación', 'aprender a programar', 'programador argentina', 'dager', 'dot dager'], 'categoryId': '27', 'liveBroadcastContent': 'none', 'xd': 'es-419', 'duration': 'PT3H1M38S', 'dimension': '2d', 'definition': 'hd', 'viewCount': '10455', 'likeCount': '696', 'commentCount': '34'}, {'videoId': 'l5StxtIQ25k', 'publishedAt': '2024-02-17T18:14:20Z', 'title': 'La habilidad más importante que no estás practicando.', 'description': \"Si hay algo que un desarrollador de software va a encontrar en su carrera son bugs. Sin embargo me parece que los que tenemos experiencia rara vez nos paramos a tratar de enseñarle a los programadores nuevos cómo mejorar en esta habilidad.\\nTal vez sea porque no es un tópico muy épico, o porque sea muy práctico y generalmente la gente lo va aprendiendo sobre la marcha y a los golpes. \\n\\nPero a mí me parece que si pudiera viajar unos años al pasado y explicarme sobre debuggeo, mi reacción sería preguntarme por qué mierda usé la capacidad de viajar en el tiempo para algo tan trivial.\\nOnda, ¿en serio, podés viajar al pasado y decirme cualquier cosa, y lo mejor que se te ocurrió fue explicarme cómo usar un profiler o poner console.log('here')? ¿No se te ocurrió que podrías decirme algo más útil? No sé, el precio futuro de BTC, los números de la lotería, avisarme que se viene la pandemia. ALGO, FLACO, ¿SOS BOLUDO O TE HACÉS?\\n\\n00:00 Intro\\n01:53 Tickets\\n03:36 Tickets pero mejor\\n04:43 Refutar es mejor que confirmar\\n07:59 Tomate un café\\n\\n•·················•·················•\\n\\nLinks.\\n\\nCanal de cine/filosofía:   @ElAntroDeDager  \\nCanal de musiquita:   @DagerMusic  \\nTwitch: https://www.twitch.tv/dagerxiv\\nDiscord: https://discord.gg/4NFk6TamAB\\nIG: https://www.instagram.com/dager.32/\\n\\n#programacion #bugs #software\", 'channelTitle': 'Dot Dager', 'tags': ['programación', 'aprender a programar', 'programador argentina', 'dager', 'dot dager', 'dot dager programador', 'dot dager programación', 'bugs', 'debuggear', 'dager bugs', 'dager programación', 'aprender a programar desde cero', 'aprender a programar do zero', 'aprender a debuggear', 'cómo debuggear software', 'consejos para programar', 'desarrollo personal', 'aprender a programar en java desde cero', 'aprender a programar en python', 'aprender a programar en c++ desde cero', 'aprender a programar desde 0'], 'categoryId': '24', 'liveBroadcastContent': 'none', 'xd': 'es-419', 'duration': 'PT9M37S', 'dimension': '2d', 'definition': 'hd', 'viewCount': '32351', 'likeCount': '3869', 'commentCount': '211'}, {'videoId': '3RMVkiGToio', 'publishedAt': '2024-01-10T18:00:01Z', 'title': 'Te falta pasión.', 'description': 'Hace tiempo vengo viendo cierta desconexión y esnobismo de parte de los que ya estamos en la industria cuando se trata de dar consejos rápidos a los principiantes. Lo más elitista y falopa que he escuchado (y dicho) es que uno tiene que tener \"pasión\" para ser programador.\\nObviamente la pasión tiene su lugar y utilidad, pero mi punto es que suele ser más bien un efecto secundario, y más aún, en los pibes que están arrancando suele ser usada por sus empleadores como una excusa para que trabajen gratis.\\nEso. No sé por qué estás leyendo la descripción, pero tampoco sé por qué la estoy escribiendo si (casi) nadie la lee.\\n\\nSaludos a la familia.\\n\\n00:00 La intro\\n00:20 El resto del video\\n•·················•·················•\\n\\nLinks.\\n\\nCanal de cine/filosofía:   @ElAntroDeDager  \\nCanal de musiquita:   @DagerMusic  \\nTwitch: https://www.twitch.tv/dagerxiv\\nDiscord: https://discord.gg/4NFk6TamAB\\nIG: https://www.instagram.com/dager.32/\\n\\n#programacion #aprenderaprogramar #programar', 'channelTitle': 'Dot Dager', 'tags': ['programación', 'aprender a programar', 'programador argentina', 'dager', 'dot dager', 'dot dager programador', 'dot dager programación', 'aprender a programar desde cero', 'trabajo programador argentina', 'salario programador argentina', 'conseguir trabajo programador argentina', 'la vida de un programador argentina', 'dot dager entrevista', 'pasión para programar'], 'categoryId': '24', 'liveBroadcastContent': 'none', 'xd': 'es-419', 'duration': 'PT3M42S', 'dimension': '2d', 'definition': 'hd', 'viewCount': '20798', 'likeCount': '3540', 'commentCount': '242'}, {'videoId': 'lHJv5_1VL2o', 'publishedAt': '2023-12-22T17:41:25Z', 'title': 'Teoría de grafos | Te lo explico así nomás.', 'description': \"Probá todo lo que ofrece Brilliant durante 30 días totalmente gratis: https://brilliant.org/DotDager/ . Los primeros 200 en usar mi link tiene 20% de descuento en la suscripción anual Premium de Brilliant.\\n\\nTeoría de grafos es uno de los tópicos que más aburridamente recuerdo que me enseñaron en la facultad. Sin embargo es una herramienta muy poderosa para modelar problemas de forma aprehensible. Así que en este video te lo explico así nomás, usando el ejemplo histórico de los puentes de Königsberg para definir grafos, caminos y ciclos eulerianos. Haciendo la mayor cantidad de chistes de mierda en el camino.\\n\\n00:00 Intro\\n00:35 Los puentes de Königsberg\\n01:20 Fuerza bruta\\n03:48 Leohnard Euler se tiltea\\n07:51 Repaso\\n08:23 ¿Pa' qué me sirve (ejemplo)?\\n09:36 Brilliant\\n\\nEste video está patrocinado por Brilliant (duh!).\\n•·················•·················•\\n\\nLinks.\\n\\nCanal de cine/filosofía:   @ElAntroDeDager  \\nCanal de musiquita:   @DagerMusic  \\nTwitch: https://www.twitch.tv/dagerxiv\\nDiscord: https://discord.gg/4NFk6TamAB\\nIG: https://www.instagram.com/dager.32/\\n\\n#programacion #aprenderaprogramar #inteligenciaartificial\", 'channelTitle': 'Dot Dager', 'tags': ['programación', 'aprender a programar', 'programador argentina', 'dager', 'dot dager', 'dot dager programador', 'dot dager programación', 'aprender a programar con inteligencia artificial', 'dot dager entrevista', 'dot dager python', 'ser programador en argentina', 'grafos', 'teoría de grafos', 'Königsberg', 'puentes de konigsberg', 'euler', 'problemas de los 7 puentes', 'te lo explico así nomás', 'grafos explicado así nomás', 'grafos simple', 'grafos explicación simple', 'caminos eulerianos', 'ciclos eulerianos'], 'categoryId': '24', 'liveBroadcastContent': 'none', 'xd': 'es-419', 'duration': 'PT11M15S', 'dimension': '2d', 'definition': 'hd', 'viewCount': '19259', 'likeCount': '2779', 'commentCount': '158'}, {'videoId': 'swzomZt8H30', 'publishedAt': '2023-12-05T20:50:36Z', 'title': 'Dejá de usar if else como junior.', 'description': 'Dejá de usar if/else anidados al pedo; usá guard clauses (siempre y cuando no tengas que manejar recursos) y sé feliz.\\n\\n00:00 Intro\\n00:26 Programar para el camino feliz\\n01:06 Ejemplo tonto\\n02:21 Cláusulas de protección\\n03:46 Hmactually...\\n\\n•·················•·················•\\n\\n#programacion #programar #aprenderaprogramar \\n\\nLinks.\\n\\nCanal de cine/filosofía:   @ElAntroDeDager  \\nCanal de musiquita:   @DagerMusic  \\nTwitch: https://www.twitch.tv/dagerxiv\\nDiscord: https://discord.gg/4NFk6TamAB\\nIG: https://www.instagram.com/dager.32/', 'channelTitle': 'Dot Dager', 'tags': ['programación', 'aprender a programar', 'programador argentina', 'dager', 'dot dager', 'dot dager programador', 'dot dager programación', 'desarrollo web', 'buenas practicas js', 'condicionales simples', 'if else', 'aprender programación', 'guard clauses', 'react js', 'web development', 'if else java', 'aprende a programar', 'estructura if', 'if else python', 'aprender programación gratis', 'aprender programación desde cero', 'guard clauses c#', 'programación desde cero', 'dot dager python', 'dot danger'], 'categoryId': '24', 'liveBroadcastContent': 'none', 'xd': 'es-419', 'duration': 'PT4M30S', 'dimension': '2d', 'definition': 'hd', 'viewCount': '143808', 'likeCount': '13779', 'commentCount': '519'}, {'videoId': 'QgZmaHOiIu8', 'publishedAt': '2023-11-28T21:14:11Z', 'title': 'Empresa grande vs empresa chica | ¿Dónde programar?', 'description': 'Esto es un video sobre la dicotomía entre empresas grandes y empresas chicas. Es medio \"qué buena data pero no te pregunté\", pero me parece algo importante que rara vez se menciona.\\n\\n00:00 Intro\\n00:43 ¿Cuál es más beginner-friendly?\\n01:43 ¿Cuál paga más y ofrece más seguridad?\\n03:09 Especialización\\n03:32 Responsabilidad\\n04:14 Procesos\\n•·················•·················•\\n\\nLinks.\\n\\nCanal de cine/filosofía:   @ElAntroDeDager  \\nCanal de musiquita:   @DagerMusic  \\nTwitch: https://www.twitch.tv/dagerxiv\\nDiscord: https://discord.gg/4NFk6TamAB\\nIG: https://www.instagram.com/dager.32/', 'channelTitle': 'Dot Dager', 'tags': ['programación', 'aprender a programar', 'programador argentina', 'dager', 'dot dager', 'dot dager programador', 'dot dager programación', 'aprender a programar desde cero', 'aprender a programar desde 0', 'como ser programador', 'desarrollo de apps', 'empresa grande', 'empresa chica', 'donde empezar a programar', 'las empresas grandes pagan mejor'], 'categoryId': '24', 'liveBroadcastContent': 'none', 'xd': 'es-419', 'duration': 'PT5M42S', 'dimension': '2d', 'definition': 'hd', 'viewCount': '17573', 'likeCount': '2293', 'commentCount': '169'}, {'videoId': 'dRS177CMgAA', 'publishedAt': '2023-11-26T21:11:01Z', 'title': '¡Falopa! Ahora que tengo tu atención... ¡Falopa!', 'description': 'Hola, soy Dager y esto es un stream pero es mío.\\n\\n•·················•·················•\\n\\nLinks.\\n\\nCanal de cine/filosofía: @ElAntroDeDager \\nCanal de musiquita: @DagerMusic \\nDiscord server: https://discord.gg/4NFk6TamAB\\nIG: https://www.instagram.com/dager.32/\\nTwitch: https://www.twitch.tv/dagerxiv', 'channelTitle': 'Dot Dager', 'tags': ['programación', 'aprender a programar', 'programador argentina', 'dager', 'dot dager'], 'categoryId': '24', 'liveBroadcastContent': 'none', 'xd': 'es-419', 'duration': 'PT1H54M59S', 'dimension': '2d', 'definition': 'hd', 'viewCount': '6742', 'likeCount': '529', 'commentCount': '28'}, {'videoId': 'JMzoBcPpwhk', 'publishedAt': '2023-11-21T21:09:58Z', 'title': 'Usando AI para RECUPERAR MI HONOR.', 'description': 'Holi, esto es un video. Miralo.\\nHace un tiempo vi un video de Code Bullet usando inteligencia artificial para vencer al \"Juego Más Difícil del Mundo\" (World\\'s Hardest Game) y me pareció un proyecto divertido para practicar y explicar algoritmos genéticos, que no reciben el amor que merecen en el mundo de la IA -tal vez porque son bastante chotos comparados con otras técnicas actuales, pero me chupa un huevo.\\nHice el juego de cero en Unity. El código va a parar a mi GitHub: https://github.com/MarianoVilla/WorldsHardestGame\\n\\nEl video del capo de @CodeBullet :  https://youtu.be/Yo2SepcNyw4\\nSi te interesa ahondar en el tema, te recomiendo la serie de The Coding Train en el tópico: https://www.youtube.com/watch?v=9zfeTw-uFCw&list=PLRqwX-V7Uu6bJM3VgzjNV5YxVxUwzALHV&ab_channel=TheCodingTrain\\n\\n00:00 Intro\\n00:49 Haciendo el juego\\n03:09 IA es hora\\n08:44 Outro\\n\\n\\n•·················•·················•\\n\\nLinks.\\n\\nCanal de cine/filosofía:   @ElAntroDeDager  \\nCanal de musiquita:   @DagerMusic  \\nTwitch: https://www.twitch.tv/dagerxiv\\nDiscord: https://discord.gg/4NFk6TamAB\\nIG: https://www.instagram.com/dager.32/\\n\\n#ai #ias #inteligenciaartificial', 'channelTitle': 'Dot Dager', 'tags': ['programación', 'aprender a programar', 'programador argentina', 'dager', 'dot dager', 'dot dager programador', 'dot dager programación', 'inteligencia artificial', 'inteligencia artificial 2023', 'code bullet', 'code bullet hardest game', 'algoritmos', 'code bullet español', 'code bullet coding', 'dager code bullet', 'unity', 'el juego más difícil del mundo', 'programación orientada a objetos', 'unity tutorial'], 'categoryId': '24', 'liveBroadcastContent': 'none', 'xd': 'es-419', 'duration': 'PT9M16S', 'dimension': '2d', 'definition': 'hd', 'viewCount': '19320', 'likeCount': '2517', 'commentCount': '199'}, {'videoId': 'EHWK9XA_kck', 'publishedAt': '2023-11-14T23:27:57Z', 'title': \"Vamo' a estudiar/codear🍅 20/5 Pomodoro + Lo-fi + Q&A 🍅\", 'description': 'Hola, soy Dager y esto es un stream pero es mío.\\nEstudiando: Operating Systems: Three Easy Pieces\\n\\n•·················•·················•\\n\\nLinks.\\n\\nCanal de cine/filosofía: @ElAntroDeDager \\nCanal de musiquita: @DagerMusic \\nDiscord server: https://discord.gg/4NFk6TamAB\\nIG: https://www.instagram.com/dager.32/\\nTwitch: https://www.twitch.tv/dagerxiv', 'channelTitle': 'Dot Dager', 'tags': ['programación', 'aprender a programar', 'programador argentina', 'dager', 'lofi', 'lofi studying', 'pomodoro', 'pomodoro lofi', 'study session', 'coding', 'coworking', 'co working', 'co studying', 'dager lofi', 'dager music'], 'categoryId': '24', 'liveBroadcastContent': 'none', 'xd': 'es-419', 'duration': 'PT2H53M40S', 'dimension': '2d', 'definition': 'hd', 'viewCount': '17953', 'likeCount': '1150', 'commentCount': '41'}, {'videoId': 'FlO796ke0AI', 'publishedAt': '2023-11-07T20:00:07Z', 'title': 'Dejá de perder tiempo.', 'description': 'Bueno, después de cuatrocientos años me digné a hacer otro video, y no específicamente de tu culo y mi fideo sino acerca de la pregunta del millón: \"¿cuándo estás listo para empezar a buscar trabajo de programador?\".\\nAdemás de hacer muchos chistes de mierda, en este video exploro los que son para mí los puntos más importantes a tener en cuenta antes de ingresar al mercado laboral en este intenso, dinámico y multidisciplinario mundo de la programación.\\nBue, por qué escribía como si estuviera pitcheando su despido en LinkedIn.\\n\\nDejá de leer la descripción de los videos, la vida es muy corta para eso.\\n\\n00:00 Intro\\n00:19 Cómo llegamos acá\\n02:51 Ya estás listo\\n03:20 Francia\\n03:30 No le prestes atención a los requerimientos\\n05:12 Manaos\\n05:35 No estás perdiendo nada\\n07:23 Mojate los pies\\n\\n•·················•·················•\\n\\nLinks.\\n\\nCanal de cine/filosofía: @ElAntroDeDager \\nCanal de musiquita: @DagerMusic \\nDiscord server: https://discord.gg/4NFk6TamAB\\nIG: https://www.instagram.com/dager.32/', 'channelTitle': 'Dot Dager', 'tags': ['programación', 'aprender a programar', 'programador argentina', 'dager', 'como dejar de perder el tiempo', 'perder el tiempo', 'dejar de procrastinar', 'programar', 'entrevista de trabajo', 'entrevistarse como programador', 'entrevistas técnicas', 'cuándo estoy listo', 'cuándo empezar a entrevistarme', 'cuándo buscar trabajo', 'trabajo de programador', 'cuánto gana un programador'], 'categoryId': '24', 'liveBroadcastContent': 'none', 'xd': 'es-419', 'duration': 'PT7M45S', 'dimension': '2d', 'definition': 'hd', 'viewCount': '70068', 'likeCount': '9156', 'commentCount': '584'}, {'videoId': 'Lv9nGxpAJrY', 'publishedAt': '2023-10-29T01:38:52Z', 'title': '🔴 ANALIZANDO SUS PORTFOLIOS 🔴', 'description': 'Llegó el día, uachines, como se anunció en el último video, vamos a revisar los portfolios que nos mandaron a portafoliosdesarrollador@gmail.com con @otromasdesistemas.\\n\\n•·················•·················•\\n\\nLinks.\\n\\nCanal de cine/filosofía:   @ElAntroDeDager  \\nCanal de musiquita:   @DagerMusic  \\nDiscord server: https://discord.gg/4NFk6TamAB\\nIG: https://www.instagram.com/dager.32/', 'channelTitle': 'Dot Dager', 'tags': ['programación', 'aprender a programar', 'programador argentina', 'dager', 'otromasdesistemas', 'otro más de sistemas', 'dalto', 'análisis de portfolios'], 'categoryId': '24', 'liveBroadcastContent': 'none', 'xd': 'es-419', 'duration': 'PT3H26M40S', 'dimension': '2d', 'definition': 'hd', 'viewCount': '16076', 'likeCount': '865', 'commentCount': '40'}, {'videoId': '0wQ7Jc9QZMI', 'publishedAt': '2023-10-15T21:20:46Z', 'title': 'Dejá de estudiar programación.', 'description': 'Mandame tu portfolio: portafoliosdesarrollador@gmail.com\\nEscuchá la musiquita: https://open.spotify.com/album/2Bpf4XNlLrQmWoOKyYTb9O?si=DO-uVjtvQ5SuUP6MZfQLmw\\n\\nLa otra vuelta me di cuenta que la gente que lee la descripción se la re come. No, mentira, te quiero mucho.\\nCuestión que en este videito hablo más en detalle sobre la idea de que \"a programar se aprende programando\", que frecuentemente resalto sin dar tanto contexto. Además te invito a mandarme tu portfolio, y te muestro no uno, no dos, sino TRES pepinos. ¿Qué más querés? ¿Una descripción coherente? No me quedan.\\n\\n00:00 Holi\\n00:22 Por qué es importante hacer cosas\\n02:06 TRES PEPINOS\\n03:34 Si no se te ocurre nada...\\n04:39 Anécdota/ejemplo: pentominos\\n05:43 Mandame tu portfolio\\n06:33 Chau\\n\\n•·················•·················•\\n\\nLinks.\\n\\nCanal de cine/filosofía:   @ElAntroDeDager  \\nCanal de musiquita:   @DagerMusic  \\nDiscord server: https://discord.gg/4NFk6TamAB\\nIG: https://www.instagram.com/dager.32/', 'channelTitle': 'Dot Dager', 'tags': ['programación', 'aprender a programar', 'programador argentina', 'dager', 'como aprender a programar', 'aprender a programar desde cero', 'como ser programador', 'aprender programacion', 'curso de programacion', 'desarrollador web', 'desarrollo web', 'desarrollo web desde cero', 'desarrollador de software argentina', 'como ser programador senior', 'curso de programacion desde cero', 'aprender programacion desde cero', 'portfolios', 'dager portfolios', 'portfolios programación', 'protafolio', 'portafolio developer', 'dev'], 'categoryId': '24', 'liveBroadcastContent': 'none', 'xd': 'es-419', 'duration': 'PT6M53S', 'dimension': '2d', 'definition': 'hd', 'viewCount': '73621', 'likeCount': '6616', 'commentCount': '399'}, {'videoId': 'SoblGnOSHws', 'publishedAt': '2023-09-30T21:00:11Z', 'title': 'Por qué dejé la universidad | ¿Carrera, autodidacta o bootcamps para ser programador?', 'description': 'Bueno, esto es un video sobre educación formal, universidades y esas cosas, en relación a la programación.\\nY sí, ¿no? Obviamente en relación a la programación, de eso va el canal. A veces me preocupa que tenga que aclararte estas cosas. Pero más me preocupa que te pongas a leer la descripción. ¿Estás bien?\\n\\n00:00 Intro\\n00:18 Contexto\\n01:57 Por qué dejé mi carrera\\n03:00 ¿Es útil/necesaria para conseguir trabajo?\\n04:40 ¿Es útil/necesaria para aprender?\\n06:09 ¿Qué hacés con esta info?\\n07:46 ¡DBZ!\\n\\n•·················•·················•\\n\\nLinks.\\n\\nCanal de cine/filosofía:   @ElAntroDeDager  \\nCanal de musiquita:   @DagerMusic  \\nDiscord server: https://discord.gg/4NFk6TamAB\\nIG: https://www.instagram.com/dager.32/', 'channelTitle': 'Dot Dager', 'tags': ['programación', 'aprender a programar', 'programador argentina', 'dager', 'desarrollo web', 'estudiar programacion', 'desarrollo de software', 'programacion y desarrollo', 'soy dalto', 'lucas dalto', 'universidad programacion', 'ser programador', 'como aprender a programar', 'trabajar de programador', 'programacion desde cero', 'curso de programacion desde cero', 'aprender a programar inteligencia artificial', 'bootcamp programacion que es', 'ser programador autodidacta', 'programador x autodidacta'], 'categoryId': '24', 'liveBroadcastContent': 'none', 'xd': 'es-419', 'duration': 'PT8M7S', 'dimension': '2d', 'definition': 'hd', 'viewCount': '45220', 'likeCount': '5235', 'commentCount': '469'}, {'videoId': 'bsNsgoKPhOY', 'publishedAt': '2023-09-16T21:41:18Z', 'title': '¿Qué es un algoritmo y por qué debería importarte? | Te lo explico así nomás.', 'description': 'Junto a las estructuras de datos, los algoritmos son la dupla más pulenta de la ciencia computacional. En este video de mierda te explico así nomás qué es un algoritmo y por qué debería importarte en tu rol de desarrollador de software.\\n\\n00:00 Intro\\n00:27 Definición\\n02:02 Por qué debería importarte\\n\\n•·················•·················•\\n\\nLinks.\\n\\nCanal de cine/filosofía:   @ElAntroDeDager  \\nCanal de musiquita:   @DagerMusic  \\nDiscord server: https://discord.gg/4NFk6TamAB\\nIG: https://www.instagram.com/dager.32/\\n\\n#programacion #algoritmos #aprenderaprogramar', 'channelTitle': 'Dot Dager', 'tags': ['programación', 'aprender a programar', 'programador argentina', 'dager', 'qué es un algoritmo', 'que es un algoritmo', 'que es un algoritmo en programacion', 'curso de algoritmos', 'algoritmos de programación', 'que es un algoritmo en informatica', 'diagramas de flujo', 'tipos de algoritmos', 'que es algoritmo', 'principios de algoritmos', 'tipos de algoritmos en programacion', 'qué es un algoritmo y para qué sirve', 'qué es un algoritmo en informática', 'que es un algoritmo y para que se usa'], 'categoryId': '24', 'liveBroadcastContent': 'none', 'xd': 'es-419', 'duration': 'PT4M45S', 'dimension': '2d', 'definition': 'hd', 'viewCount': '19245', 'likeCount': '2689', 'commentCount': '243'}, {'videoId': 'TcOsGIrudMA', 'publishedAt': '2023-09-10T01:28:43Z', 'title': '¡Falopa! Ahora que tengo tu atención... ¡falopa!', 'description': 'Hola, esto es un stream pero es mío.\\nVamos a hacer Q&A, musiquita y pan con manteca.\\n\\n•·················•·················•\\n\\nLinks.\\n\\nCanal de cine/filosofía:   @ElAntroDeDager  \\nCanal de musiquita:   @DagerMusic  \\nDiscord server: https://discord.gg/4NFk6TamAB\\nIG: https://www.instagram.com/dager.32/', 'channelTitle': 'Dot Dager', 'tags': ['programación', 'aprender a programar', 'programador argentina', 'dager'], 'categoryId': '24', 'liveBroadcastContent': 'none', 'xd': 'es-419', 'duration': 'PT2H9M45S', 'dimension': '2d', 'definition': 'hd', 'viewCount': '9715', 'likeCount': '969', 'commentCount': '26'}, {'videoId': 'nd8Ej6oZGUc', 'publishedAt': '2023-09-07T20:55:14Z', 'title': '¿Cuántos lenguajes de programación aprender?', 'description': 'La gente que está arrancando a programar suele tener una obsesión con las tecnologías, lenguajes y frameworks. No es su culpa: no hay conversación entre desarrolladores con experiencia que no tenga (mínimo), diez acrónimos de cada interlocutor. \\nCuando se me ha preguntado qué lenguajes o tecnologías uso frecuentemente, la lista es más o menos larga; y si bien me encantaría fingir que me las sé todas, lo cierto es que en la mayoría de las cosas que uso soy un noob. \\nLa experiencia te vuelve muy bueno para agarrarle la mano a lenguajes y entornos nuevos, pero esto se debe a que los conceptos centrales se repiten. A donde vayas, siempre vas a tener más o menos las mismas estructuras de datos y algoritmos; siempre las mismas herramientas control de flujo de ejecución y operadores lógicos; siempre algún modelo de threading, de control de memoria y demás. O sea: cuando entrás a un lenguaje nuevo, generalmente venís una funcionalidad X bajo el brazo y preguntás: \"¿cómo hace uno X acá?\".\\n\\n00:00 Acá empieza\\n00:10 Acá no\\n01:30 Acá tampoco\\n\\n•·················•·················•\\n\\nLinks.\\n\\nCanal de cine/filosofía:   @ElAntroDeDager  \\nCanal de musiquita:   @DagerMusic  \\nDiscord server: https://discord.gg/4NFk6TamAB\\nIG: https://www.instagram.com/dager.32/', 'channelTitle': 'Dot Dager', 'tags': ['programación', 'aprender a programar', 'programador argentina', 'dager', 'cuantos lenguajes de programacion aprender', 'cual es el mejor lenguaje para aprender a programar', 'el mejor lenguaje de programacion', 'aprender a programar desde cero', 'lenguajes de programacion', 'que lenguaje paga mas', 'desarrollo web full stack', 'desarrollo web front end', 'desarrollo web 2023', 'cuantos lenguajes de programacion debo aprender', 'el mejor lenguaje de programacion 2023', 'lenguajes de programacion 2023'], 'categoryId': '24', 'liveBroadcastContent': 'none', 'xd': 'es-419', 'duration': 'PT2M33S', 'dimension': '2d', 'definition': 'hd', 'viewCount': '14897', 'likeCount': '2148', 'commentCount': '162'}, {'videoId': 'H3SjxCu3OGw', 'publishedAt': '2023-08-23T21:00:07Z', 'title': 'Qué hace un programador | 5 cosas que hago a diario.', 'description': 'Después del videito sobre un día en mi vida, unas cuantas personas me pidieron que ahondara más en qué hago en el día a día. O tal vez no, pero quería hacer este video y vos no me vas a detener.\\nA menos que tengas una máquina del tiempo. Pero si la tuvieras, la verdad que bastante pete andar usándola para algo tan trivial. ¿No te parece que hay mejores cosas para hacer con tu máquina del tiempo que andar arruinándole los videos a un iutuber de mierda? \\nNo sé.\\nNo estoy enojado, solamente decepcionado.\\nLa verdad que no, también estoy enojado. Me enoja mucho que uses una invención tan importante para algo tan banal; pero te perdono porque te tomaste el tiempo de leer la descripción del video 😘.\\n\\n00:00 Intro\\n00:54 Features\\n02:16 Bugs\\n02:35 Code reviews\\n03:00 Reuniones\\n04:37 Mentorear\\n\\n•·················•·················•\\n\\nLinks.\\n\\nCanal de cine/filosofía:   @ElAntroDeDager  \\nCanal de musiquita:   @DagerMusic  \\nDiscord server: https://discord.gg/4NFk6TamAB\\nIG: https://www.instagram.com/dager.32/', 'channelTitle': 'Dot Dager', 'tags': ['programación', 'aprender a programar', 'programador argentina', 'dager', 'dot dager', 'que hace un programador', 'que hace un desarrollador', 'programador senior', 'que hace un programador senior', 'soy dalto', 'desarrollo web', 'programador junior argentina', 'trabajo remoto', 'programacion y desarrollo', 'aprender programación', 'programación gratis', 'desarrollo web full stack', 'programacion y desarrollo de software', 'desarrollo de software', 'que hace un programador semi senior'], 'categoryId': '24', 'liveBroadcastContent': 'none', 'xd': 'es-419', 'duration': 'PT5M29S', 'dimension': '2d', 'definition': 'hd', 'viewCount': '38968', 'likeCount': '4427', 'commentCount': '220'}, {'videoId': 'EvKm8yhM7V8', 'publishedAt': '2023-08-11T16:00:21Z', 'title': 'HTML en 5 minutos | Te lo explico así nomás.', 'description': 'HTML es un LENGUAJE DE PROGRAMACIÓN JAJAJA.\\nBueno, posta, es un lenguaje de marcado, o de etiquetado, que se usa generalmente para definir la estructura de un sitio web. Junto con CSS y JS forman la santa tríada del front-end web. \\nNi idea por qué te estoy explicando qué es HTML como si estuviese respondiendo una pregunta de la uni, pero bueno, ya estamos en el baile.\\n¿Qué mierda hacés leyendo la descripción, en cualquier caso?\\nMentira, aprecio que lo hagas. Te quiero mucho.\\n\\n00:00 Teoría\\n02:25 Práctica\\n\\nRepo: https://github.com/MarianoVilla/DotDager\\n\\nRecursos para seguir aprendiendo/practicando HTML gratis:\\nhttps://www.w3schools.com/html/default.asp\\nhttps://www.freecodecamp.org/\\nhttps://developer.mozilla.org/es/\\ngoogle.com\\n\\n\\n•·················•·················•\\n\\nLinks.\\n\\nCanal de cine/filosofía:   @ElAntroDeDager  \\nCanal de musiquita:   @DagerMusic  \\nDiscord server: https://discord.gg/4NFk6TamAB\\nIG: https://www.instagram.com/dager.32/', 'channelTitle': 'Dot Dager', 'tags': ['programación', 'aprender a programar', 'programador argentina', 'dager', 'desarrollo web', 'que es html', 'html atributos', 'atributos html', 'html tutorial', 'curso de html', 'html tutorial for beginners', 'aprender html', 'html (programming language)', 'que es html y como funciona', 'html5 (api)', 'qué es html y cómo funciona', 'crear sitios web', 'paginas web', 'crear un sitio', 'como hacer', 'para principiantes', 'desarrollo web 2023', 'desarrollo web desde cero', 'desarrollo web front end', 'aprender html5'], 'categoryId': '24', 'liveBroadcastContent': 'none', 'xd': 'es-419', 'duration': 'PT6M23S', 'dimension': '2d', 'definition': 'hd', 'viewCount': '36339', 'likeCount': '3863', 'commentCount': '325'}, {'videoId': 'fIAyeAAhecE', 'publishedAt': '2023-08-03T18:05:03Z', 'title': 'Cómo reemplazar juegos por programación.', 'description': 'Las personas que quieren aprender a programar muy frecuentemente somos aficionados a las computadoras, frikis o gamers que queremos monetizar de algún modo nuestra pasión. Recientemente me topé con varios videos que prometían estrategias para reemplazar los juegos por el coding, y como soy una persona que -como todos- lucha con distracciones que incluyen (pero no se limitan) a los videojuegos, se me ocurrió pasarte algunos tips para ser más efectivo.\\nParticularmente soy reacio a creer en cualquier solución que dependa en cosas como la disciplina o la motivación, porque son recursos volátiles y difíciles de controlar; por eso en este video te doy algunas ideas para separar los tantos, alejar la tentación y ponerte más en contacto con el ambiente de programadores.\\n\\n00:00 No dependas de la disciplina\\n01:32 Eliminar la tentación\\n01:58 Hacé cosas (interesantes)\\n02:34 Acercate al ambiente (comunidades, contenido)\\n\\nEl tercer punto (y la idea del thumbnail) extraen inspiración de un excelente video de bigboxSWE, check him out! - https://youtu.be/jclr0N6mvUI\\n\\nAdemás, te recomiendo Atomic Habits, de James Clear, que también funcionó como inspiración. \\n\\n•·················•·················•\\n\\nLinks.\\n\\nCanal de cine/filosofía:   @ElAntroDeDager  \\nCanal de musiquita:   @DagerMusic  \\nDiscord server: https://discord.gg/4NFk6TamAB\\r\\nIG: https://www.instagram.com/dager.32/', 'channelTitle': 'Dot Dager', 'tags': ['programación', 'aprender a programar', 'programador argentina', 'dager', 'lucas dalto', 'programacion y desarrollo', 'desarrollo web', 'indie dev', 'programacion y desarrollo de software', 'programación y desarrollo web', 'juegos', 'desarrollo de juegos', 'programación de juegos', 'motivación programadores', 'reemplazar juegos por programación', 'coding', 'productividad', 'motivación'], 'categoryId': '27', 'liveBroadcastContent': 'none', 'xd': 'es-419', 'duration': 'PT3M34S', 'dimension': '2d', 'definition': 'hd', 'viewCount': '85944', 'likeCount': '9944', 'commentCount': '491'}, {'videoId': 'oQcDGpsUgNk', 'publishedAt': '2023-07-26T20:30:03Z', 'title': 'Más allá del código | 3 habilidades para ser mejor programador', 'description': 'Internet está repleta de info sobre lenguajes de programación, frameworks y tecnologías. Y si bien estos conocimientos son cruciales, hay otras habilidades y herramientas que son muy importantes, pero de las cuales rara vez me topo mención. En este hermoso video te menciono tres.\\n\\n00:00 Intro\\n00:41 Planeamiento y estimación de tiempos (Trello, Slite, Figma)\\n02:42 Habilidades blandas\\n04:18 Colaboración (git, Slack, Teams, etc)\\n\\n•·················•·················•\\n\\nLinks.\\n\\nCanal de cine/filosofía:   @ElAntroDeDager  \\nCanal de musiquita:   @DagerMusic  \\nDiscord server: https://discord.gg/4NFk6TamAB\\nIG: https://www.instagram.com/dager.32/\\n\\n\\n#programacion #aprenderaprogramar #python', 'channelTitle': 'Dot Dager', 'tags': ['programación', 'aprender a programar', 'programador argentina', 'dager', 'lenguaje de programación', 'programación orientada a objetos', 'aprender programación gratis', 'desarrollo web', 'como aprender a programar', 'desarrollador web', 'aprender a programar por tu cuenta', 'habilidades de un programador', 'desarrollador web en estados unidos', 'dot dager'], 'categoryId': '27', 'liveBroadcastContent': 'none', 'xd': 'es-419', 'duration': 'PT6M22S', 'dimension': '2d', 'definition': 'hd', 'viewCount': '74517', 'likeCount': '8545', 'commentCount': '449'}, {'videoId': 'mBXLq_Jx2rc', 'publishedAt': '2023-07-21T02:35:21Z', 'title': 'Programar: expectativa vs realidad.', 'description': 'Basta, ya conocés este chiste.\\n\\n•·················•·················•\\n\\nLinks.\\n\\nCanal de cine/filosofía:   @ElAntroDeDager  \\nCanal de musiquita:   @DagerMusic  \\nDiscord server: https://discord.gg/4NFk6TamAB\\nIG: https://www.instagram.com/dager.32/', 'channelTitle': 'Dot Dager', 'tags': ['programación', 'aprender a programar', 'programador argentina', 'dager', 'expectativa versus realidad', 'programar', 'programador expectativa vs realidad', 'programar expectativa vs realidad', 'memes', 'dot dager'], 'categoryId': '24', 'liveBroadcastContent': 'none', 'xd': 'es-419', 'duration': 'PT43S', 'dimension': '2d', 'definition': 'hd', 'viewCount': '14224', 'likeCount': '2097', 'commentCount': '146'}, {'videoId': 'BTDI9Je1UWY', 'publishedAt': '2023-07-15T23:57:34Z', 'title': 'El mejor lenguaje para un programador | Cómo mejoré mi inglés para trabajar para USA', 'description': 'En programación no es ningún misterio que trabajar para el extranjero suele ser más redituable. Hace varios años trabajaba localmente, con una relación de dependencia y freelancing; pero en un momento se me ocurrió la brillante idea de exportar mis servicios de programador a otros lugares del mundo, a ver si se me daba cobrar en dólares.\\nUno de los impedimentos que me topé fue que tenía que mejorar mi inglés. Mucho. En este video te cuento cómo hice para pasar de no poder mantener una conversación, a trabajar con clientes de afuera, en entornos donde se habla inglés constantemente.\\nY por supuesto te cuento alguna que otra anécdota bizarra, classic Dager.\\n\\n00:00 Intro\\n00:26 ¿Qué tanto inglés necesitás?\\n00:57 Cómo empecé a trabajar para afuera\\n04:49 Consumir contenido en inglés\\n05:23 Leer en inglés (y en voz alta)\\n06:09 Cantar (o hacer otras cosas que te gusten)\\n07:13 Hablá con nativos (por trabajo o Discord)\\n\\nSpanish-English Learning Server: https://discord.gg/spanish-english\\nYouEnglish: https://youglish.com/\\n\\n•·················•·················•\\n\\nLinks.\\n\\nCanal de cine/filosofía:   @ElAntroDeDager  \\nCanal de musiquita:   @DagerMusic  \\nDiscord server: https://discord.gg/4NFk6TamAB\\nIG: https://www.instagram.com/dager.32/\\r\\n\\n#programacion #aprenderingles #lenguajedeprogramación', 'channelTitle': 'Dot Dager', 'tags': ['programación', 'aprender a programar', 'programador argentina', 'dager', 'aprender inglés', 'inglés para programadores', 'inglés para programación', 'trabajo remoto', 'como aprender ingles', 'desarrollo de software', 'ganar dinero por internet', 'trabajo remoto en estados unidos', 'trabajar para estados unidos desde argentina', 'desarrollador de software en estados unidos', 'ser programador', 'trabajo remoto 2023', 'como aprender ingles rapido y facil', 'desarrollo web'], 'categoryId': '27', 'liveBroadcastContent': 'none', 'xd': 'es-419', 'duration': 'PT9M42S', 'dimension': '2d', 'definition': 'hd', 'viewCount': '51406', 'likeCount': '6410', 'commentCount': '466'}, {'videoId': 'WIrXzM2c4mw', 'publishedAt': '2023-07-10T21:35:59Z', 'title': 'Mejorá ESTO y conseguí tu PRIMER TRABAJO de PROGRAMADOR.', 'description': 'Conseguir trabajo de programador cuando uno está empezando puede ser un desafío. Cuando empecé hice freelancing (a veces gratis) por un tiempo, y creía que iba a conseguir empleo en desarrollo sin problema, pero a medida que pasaron algunas entrevistas me dí cuenta de que era un poco más difícil de lo que parecía.\\nEn este video/compendio de chistes de mierda te cuento mi experiencia y, sobre todo, te animo a empezar a entrevistarte. Específicamete te recomiendo que vayas a entrevistas \"de práctica\", donde ya sepas de antemano que por A o por B no vas a quedar.\\nLa idea es mandarte cagadas y aprender a ser entrevistado, que es una habilidad aparte que hay que practicar mucho, sobre todo cuando estés arrancando y tengas que lidiar con gente de HR.\\n\\n00:00 Intro\\n00:17 Lidiar con HR\\n01:30 Andá a entrevistas\\n03:20 Te dejo 5 tips\\n03:37 Googleá la empresa\\n04:12 Armate un CV custom\\n04:53 Sin miedo de preguntar\\n05:33 Disfrutá el proceso\\n\\n•·················•·················•\\n\\nLinks.\\n\\nCanal de cine/filosofía:   @ElAntroDeDager  \\nCanal de musiquita:   @DagerMusic  \\nDiscord server: https://discord.gg/4NFk6TamAB\\nIG: https://www.instagram.com/dager.32/\\r\\n\\n#aprenderaprogramar #programador #entrevistas', 'channelTitle': 'Dot Dager', 'tags': ['primer empleo programador', 'programador argentina', 'que necesito para ser programador junior', 'trabajar de programador', 'programación', 'estudiar programacion', 'aprender a programar', 'como ser programador', 'Programacion desde cero', 'desarrollo de software', 'ser programador junior', 'dot dager', 'trabajo de programador', 'trabajo de programador sin experiencia', 'trabajo de programador en argentina', 'como conseguir trabajo de programador', 'primer trabajo de programador', 'aprende a programar'], 'categoryId': '27', 'liveBroadcastContent': 'none', 'xd': 'es-419', 'duration': 'PT5M57S', 'dimension': '2d', 'definition': 'hd', 'viewCount': '32878', 'likeCount': '4276', 'commentCount': '453'}, {'videoId': 'NaRmvm8dq-M', 'publishedAt': '2023-07-06T13:00:13Z', 'title': '4 ideas CLAVE para APRENDER a PROGRAMAR.', 'description': 'Holi. Cuando me estaba iniciando en la programación tenía algunas ideas y preconceptos que me limitaban bastante. Con los años fui confirmando algunas y refutando otras, y quería compartirles mi experiencia.\\nLos puntos concretos que toco (con consentimiento) en el video son:\\n\\n1. No necesitás matemáticas para ser programador. Si bien en algunos campos específicos como ML, Data Science y desarrollo de videojuegos son bastante importantes, en desarrollo web y de aplicaciones no son necesarias. Ojo: si tenés facilidad para los números te envidio y te felicito; pero si no la tenés, no te estreses demasiado, porque podés sobrevivir igual. Atte.: un queso para las matemáticas.\\n\\n2. \"Nadie sabe nada\", obviamente una hipérbole pero creo que debería entenderse el punto, que es que no hay curso, carrera, bootcamp o tutorial que te vaya a enseñar todo lo necesario para ser programador. Siempre vas a estar lidiando con cosas raras, problemas que no entendés y errores insospechados... que 99% de las veces se resuelven en \"ah, es porque soy muy pelotudo\".\\n\\n3. Es muy fácil trabajar de más. Cuando empecé en programación me sobre-exigía como la mierda. Vivía estudiando, me iba tarde del trabajo todos los putos días, soñaba con código y programaba hasta en el baño. Pero si bien está buenísimo tener una pasión por lo que uno hace, y hoy día capaz que también me encuentres programando un finde o cosas así, en aquel tiempo lo hacía por puro estrés; porque temía que si no resolvía el problema en cuestión me iban a echar a la mierda. No es el caso: cualquier empresa seria entiende que programar es sobre resolver problemas, y a veces los problemas son inciertos, y tardan o directamente no se pueden solucionar.\\n\\n4. Confiá en vos. Ya sé: cliché y cursilería; pero este es el corolario del punto anterior, porque parte de acostumbrarte a lidiar saludablemente con la incertidumbre es confiar en que podés resolver los problemas que se te presentan. Esto no es algo que logres de un día para otro ni en forma definitiva: no pasa una semana en la que yo no sienta en algún punto que soy demasiado tonto para mi trabajo. Pero hoy día eso para mí significa solamente que tengo que estudiar un poco más, así que trato de reconvertirlo en motivación.\\n\\nVos podés.\\n\\n00:00 Intro\\n00:26 No necesitás matemáticas\\n01:24 Nadie sabe nada\\n02:14 Trabajar de más\\n03:28 Confiá en vos\\n\\n•·················•·················•\\n\\nLinks.\\n\\nCanal de cine/filosofía:  @ElAntroDeDager \\nCanal de musiquita:  @DagerMusic \\nDiscord server: https://discord.gg/4NFk6TamAB\\r\\nIG: https://www.instagram.com/dager.32/\\n\\n#aprenderaprogramar #programador #matemática', 'channelTitle': 'Dot Dager', 'tags': ['programación', 'aprender a programar', 'programador argentina', 'dager', 'aprender a programar desde cero', 'programacion desde cero', 'desarrollo web', 'como aprender a programar', 'bases para programar', 'programador autodidacta', 'desarrollo web full stack', 'programador junior argentina', 'soy dalto', 'como programar', 'programacion web', 'como ser programador', 'programacion y desarrollo', 'aprende a programar', 'la clave para aprender a programar', 'se necesita matematicas para programar', 'lucas dalto'], 'categoryId': '27', 'liveBroadcastContent': 'none', 'xd': 'es-419', 'duration': 'PT4M15S', 'dimension': '2d', 'definition': 'hd', 'viewCount': '41544', 'likeCount': '4801', 'commentCount': '347'}, {'videoId': 'c2EJRboAYL4', 'publishedAt': '2023-06-29T12:38:13Z', 'title': 'Mirá esto ANTES de aprender a PROGRAMAR.', 'description': 'Hay muchos videos mostrando lo bueno de ser programador. Que uno gana bien, que trabaja desde casa y bla-bla. Esta tendencia parece esconder lo \"malo\" de ser programador; o más bien las dificultades y particularidades de trabajar en este rubro.\\nEn este videito de mierda te intento dar tres adelantos de lo que es la vida de un programador. Los puntos principales son:\\n\\n1. Para aprender a programar hay que acostumbrarse a lidiar con la incertidumbre. Es una frase que me encanta mencionar siempre que me piden consejos para iniciarse en la programación, y la voy a seguir diciendo porque es importante: en programación nadie sabe todo, nadie te va a enseñar todo lo que necesitás para ser programador. Siempre vas a estar aprendiendo.\\n2. Programar es resolver problemas. Parecido a lo anterior: programar no es escribir código. Obviamente vas a escribir código, pero lo importante es que el código es simplemente la objetivación, el último paso en algo más importante que es solucionar problemas. Esta mentalidad te va a ayudar a tener el mindset correcto, y pensar primero y principal en qué problema estás tratando de resolver.\\n3. El dinero no es una excusa suficiente. Por más que sea una carrera lucrativa, programar no es ni por asomo una salida rápida para hacer millones. No me malinterpretes: podés ganar bien siendo programador, pero no es algo que digas \"trabajo un par de años y me lleno de guita\". O como digo en el video: es un compromiso de largo plazo. Así que considerá que si programar te disgusta, te frustra y lo estás haciendo solamente para ganar plata, en unos años le vas a perder el gusto y ahí viene el burnout.\\n\\nMás allá de todo esto, te doy la bienvenida a la industria, chau.\\n\\nTimestamps.\\n00:00 El glamour de ser programador\\n00:30 Lidiar con la incertidumbre\\n02:06 Resolver problemas\\n03:10 El dinero no es suficiente excusa\\n\\n•·················•·················•\\n\\nLinks.\\n\\nCanal de cine/filosofía:   @ElAntroDeDager  \\nCanal de musiquita:   @DagerMusic  \\nDiscord server: https://discord.gg/4NFk6TamAB\\nIG: https://www.instagram.com/dager.32/\\n\\n#aprenderaprogramar #programador #desarrollo', 'channelTitle': 'Dot Dager', 'tags': ['programación', 'aprender a programar', 'programador argentina', 'dager', 'ser programador', 'lucas dalto', 'soy dalto', 'desarrollo web', 'programacion y desarrollo', 'como ser programador', 'curso de programacion', 'aprender programación', 'ser programador es dificil', 'ser programador vale a pena', 'ser programador junior', 'aprender a programar desde cero', 'como ser programador de software', 'como ser programador junior', 'como ser programador desde cero', 'ser programador 2023', 'ser programador web'], 'categoryId': '27', 'liveBroadcastContent': 'none', 'xd': 'es-419', 'duration': 'PT5M6S', 'dimension': '2d', 'definition': 'hd', 'viewCount': '165500', 'likeCount': '14203', 'commentCount': '764'}, {'videoId': 'oSr0MD6TsCY', 'publishedAt': '2023-06-24T20:05:59Z', 'title': '¿Ser PROGRAMADOR FREELANCE como PRIMER TRABAJO?', 'description': '¿Qué conviene más, empezar a programar como empleado de una empresa, o haciendo freelancing directamente?\\nEsta es una pregunta que no escucho frecuentemente, pero que yo me hice mientras aprendía a programar y empezaba a dar mis primeros pasos en el mundillo del desarrollo de software.\\nAmbas opciones tienen ventajas y desventajas claras; en este video te cuento mi experiencia, habiendo sido freelancer y empleado.\\n\\nTimestamps\\n00:00 Intro y background\\n00:50 Empleado\\n01:57 Freelancer\\n\\n•·················•·················•\\n\\nLinks.\\n\\nCanal de cine/filosofía:   @ElAntroDeDager  \\nCanal de musiquita:   @DagerMusic  \\nDiscord server: https://discord.gg/4NFk6TamAB\\nIG: https://www.instagram.com/dager.32/\\n\\n#programador #aprenderaprogramar  #freelance', 'channelTitle': 'Dot Dager', 'tags': ['programación', 'programador', 'ser programador', 'programador freelance', 'freelance vs empleado', 'freelancer', 'trabajar como freelance', 'trabajar como programador', 'conseguir trabajo como programador', 'búsqueda de empleo en programación', 'primer trabajo de programador', 'proyectos de programación freelance', 'portafolio de programador', 'networking para programadores', 'upwork', 'lenguaje de programación', 'aprende programación', 'como ser freelance', 'como ser freelancer', 'ganar dinero', 'estudiar programacion'], 'categoryId': '27', 'liveBroadcastContent': 'none', 'xd': None, 'duration': 'PT4M36S', 'dimension': '2d', 'definition': 'hd', 'viewCount': '28678', 'likeCount': '2742', 'commentCount': '111'}, {'videoId': 'aqRngiqaX4Q', 'publishedAt': '2023-06-21T23:43:41Z', 'title': '¿No importa tu PRIMER LENGUAJE de PROGRAMACIÓN?', 'description': 'Qué lenguaje de programación usar para empezar en este mundillo es uno de los interrogantes más comunes. Igualmente frecuente es que los desarrolladores con experiencia contesten esta pregunta con una respuesta genérica del tipo \"eso no importa realmente\", \"cualquier lenguaje que aprendas te va a servir para arrancar\", \"las bases son las mismas en todos los lenguajes\", etc. Esta fue mi respuesta cuando tuve una entrevista con el canal @otromasdesistemas.\\nSin embargo, esta respuesta que los programadores senior solemos dar puede ser un tanto malinterpretada, porque hay situaciones en las que realmente no te conviene agarrar \"cualquier\" lenguaje para empezar a programar.\\nEn mi opinión, tu primer lenguaje sí importa cuando (1) tenés una idea clara de qué plataforma te interesa y/o (2) necesitás ver resultados rápidos (i.e., querés empezar a trabajar rápido o tenés cerebro de tiktoker).\\n\\nLa entrevista con otro más de sistemas: https://youtu.be/7uF3ERVV58Y\\n\\nLinks.\\n\\nCanal de cine/filosofía:   @ElAntroDeDager  \\nCanal de musiquita:   @DagerMusic  \\nDiscord server: https://discord.gg/4NFk6TamAB\\nIG: https://www.instagram.com/dager.32/\\n\\nTags.\\n#aprenderaprogramar #lenguajedeprogramación #python', 'channelTitle': 'Dot Dager', 'tags': ['programación', 'primer lenguaje', 'primer lenguaje de programación', 'lenguaje de programación para principiantes', 'introducción a la programación', 'cursos de programación', 'programación básica', 'programación para principiantes', 'lenguajes de programación populares', 'lenguajes de programación recomendados para principiantes', 'python', 'javascript', 'tutoriales de programación', 'aprende programación', 'primer\\xa0lenguaje\\xa0de\\xa0programación', 'aprender a programar', 'aprende a programar', 'como aprender a programar'], 'categoryId': '27', 'liveBroadcastContent': 'none', 'xd': 'es-419', 'duration': 'PT4M', 'dimension': '2d', 'definition': 'hd', 'viewCount': '33268', 'likeCount': '3232', 'commentCount': '228'}, {'videoId': 'B4CqKTxsYv4', 'publishedAt': '2023-06-19T12:00:13Z', 'title': 'Día en la vida de un PROGRAMADOR SENIOR (ARG)', 'description': 'Soy Dager, un desarrollador full-stack senior trabajando como programador y lead para el extranjero (desde Argentina), y en este video te muestro más o menos cómo es un día en mi vida.\\nLos videos de tipo \"rutina\" siempre son medio chamuyo, pero creo que esto refleja de forma realista cómo es un día en la vida de un programador trabajando desde casa.\\n\\nTimestamps.\\n00:00 Me despierto\\n00:39 Me despierto pero en serio\\n01:24 Trabajo\\n03:03 Almuerzo/entreno\\n03:27 Más trabajo\\n03:59 Fin del trabajo\\n04:42 Otras cosas y fin del día\\n\\n•·················•·················•\\n\\nLinks.\\n\\nCanal de cine/filosofía:   @ElAntroDeDager  \\nCanal de musiquita:   @DagerMusic  \\nDiscord server: https://discord.gg/4NFk6TamAB\\nIG: https://www.instagram.com/dager.32/\\n\\nTags.\\n#programador #fullstack #dayinthelife Discord server: https://discord.gg/vf4td5vf', 'channelTitle': 'Dot Dager', 'tags': ['programación', 'un día en la vida de un programador', 'un día en la vida de un fullstack senior', 'programador senior argentina', 'programador argentina', 'dia en la vida de un programador', 'programador argentino', 'aprender a programar', 'home office', 'rutina programador', 'desarrollo web', 'desarrollo de software', 'lenguajes de programación', 'aprende programación', 'programador senior', 'desarrollador argentina', 'estudiar programacion', 'trabajo remoto', 'aprende a programar', 'vida de programador'], 'categoryId': '24', 'liveBroadcastContent': 'none', 'xd': 'es-419', 'duration': 'PT5M21S', 'dimension': '2d', 'definition': 'hd', 'viewCount': '151973', 'likeCount': '9476', 'commentCount': '857'}]\n"
     ]
    }
   ],
   "source": [
    "data = []\n",
    "\n",
    "for videoId in videoId_list:\n",
    "    next_page_token = None\n",
    "    while True:\n",
    "        request = youtube.videos().list(\n",
    "            part=\"snippet,contentDetails,statistics\",\n",
    "            id=videoId,\n",
    "            pageToken=next_page_token\n",
    "        )\n",
    "        response = request.execute()\n",
    "        items = response.get('items', [])\n",
    "        for item in items:\n",
    "            data.append({\n",
    "                'videoId': item['id'],\n",
    "                'publishedAt': item['snippet']['publishedAt'],\n",
    "                'title': item['snippet']['title'],\n",
    "                'description': item['snippet']['description'],\n",
    "                'channelTitle': item['snippet']['channelTitle'],\n",
    "                'tags': item['snippet']['tags'],\n",
    "                'categoryId': item['snippet']['categoryId'],\n",
    "                'liveBroadcastContent': item['snippet']['liveBroadcastContent'],\n",
    "                'xd': item['snippet'].get('defaultLanguage'),\n",
    "                'duration': item['contentDetails']['duration'],\n",
    "                'dimension': item['contentDetails']['dimension'],\n",
    "                'definition': item['contentDetails']['definition'],\n",
    "                'viewCount': item['statistics']['viewCount'],\n",
    "                'likeCount': item['statistics']['likeCount'],\n",
    "                'commentCount': item['statistics']['commentCount'],\n",
    "            })\n",
    "        next_page_token = response.get('nextPageToken')\n",
    "        if not next_page_token:\n",
    "            break\n",
    "\n",
    "print(data)\n"
   ]
  },
  {
   "cell_type": "code",
   "execution_count": 32,
   "metadata": {},
   "outputs": [
    {
     "data": {
      "text/html": [
       "<div>\n",
       "<style scoped>\n",
       "    .dataframe tbody tr th:only-of-type {\n",
       "        vertical-align: middle;\n",
       "    }\n",
       "\n",
       "    .dataframe tbody tr th {\n",
       "        vertical-align: top;\n",
       "    }\n",
       "\n",
       "    .dataframe thead th {\n",
       "        text-align: right;\n",
       "    }\n",
       "</style>\n",
       "<table border=\"1\" class=\"dataframe\">\n",
       "  <thead>\n",
       "    <tr style=\"text-align: right;\">\n",
       "      <th></th>\n",
       "      <th>videoId</th>\n",
       "      <th>publishedAt</th>\n",
       "      <th>title</th>\n",
       "      <th>description</th>\n",
       "      <th>channelTitle</th>\n",
       "      <th>tags</th>\n",
       "      <th>categoryId</th>\n",
       "      <th>liveBroadcastContent</th>\n",
       "      <th>xd</th>\n",
       "      <th>duration</th>\n",
       "      <th>dimension</th>\n",
       "      <th>definition</th>\n",
       "      <th>viewCount</th>\n",
       "      <th>likeCount</th>\n",
       "      <th>commentCount</th>\n",
       "    </tr>\n",
       "  </thead>\n",
       "  <tbody>\n",
       "    <tr>\n",
       "      <th>0</th>\n",
       "      <td>F9sLk3EdLP4</td>\n",
       "      <td>2024-05-05T01:03:12Z</td>\n",
       "      <td>Falopa y programando un server DNS en C#  (par...</td>\n",
       "      <td>Usamos CodeCrafters para hacer un server DNS c...</td>\n",
       "      <td>Dot Dager</td>\n",
       "      <td>[programación, aprender a programar, programad...</td>\n",
       "      <td>24</td>\n",
       "      <td>none</td>\n",
       "      <td>es-419</td>\n",
       "      <td>PT3H47M44S</td>\n",
       "      <td>2d</td>\n",
       "      <td>hd</td>\n",
       "      <td>3501</td>\n",
       "      <td>218</td>\n",
       "      <td>3</td>\n",
       "    </tr>\n",
       "    <tr>\n",
       "      <th>1</th>\n",
       "      <td>HLC0YXVc5mA</td>\n",
       "      <td>2024-05-05T00:50:00Z</td>\n",
       "      <td>¡Falopa! Ahora que tengo tu atención... ¡Falopa!</td>\n",
       "      <td>Esto es una descripción.\\n\\n•·················...</td>\n",
       "      <td>Dot Dager</td>\n",
       "      <td>[programación, aprender a programar, programad...</td>\n",
       "      <td>24</td>\n",
       "      <td>upcoming</td>\n",
       "      <td>es-419</td>\n",
       "      <td>P0D</td>\n",
       "      <td>2d</td>\n",
       "      <td>sd</td>\n",
       "      <td>0</td>\n",
       "      <td>0</td>\n",
       "      <td>0</td>\n",
       "    </tr>\n",
       "    <tr>\n",
       "      <th>2</th>\n",
       "      <td>cncI9_3Io2c</td>\n",
       "      <td>2024-04-28T00:38:14Z</td>\n",
       "      <td>Falopa, Q&amp;A y... eso.</td>\n",
       "      <td>Esto es una descripción.\\n\\n•·················...</td>\n",
       "      <td>Dot Dager</td>\n",
       "      <td>[programación, aprender a programar, programad...</td>\n",
       "      <td>24</td>\n",
       "      <td>none</td>\n",
       "      <td>es-419</td>\n",
       "      <td>PT3H17M55S</td>\n",
       "      <td>2d</td>\n",
       "      <td>hd</td>\n",
       "      <td>4684</td>\n",
       "      <td>414</td>\n",
       "      <td>11</td>\n",
       "    </tr>\n",
       "    <tr>\n",
       "      <th>3</th>\n",
       "      <td>NxMpm10Ybd4</td>\n",
       "      <td>2024-04-22T01:36:54Z</td>\n",
       "      <td>Vamo' a (charlar y) programar un server DNS en...</td>\n",
       "      <td>Usamos CodeCrafters para hacer un server DNS c...</td>\n",
       "      <td>Dot Dager</td>\n",
       "      <td>[programación, aprender a programar, programad...</td>\n",
       "      <td>24</td>\n",
       "      <td>none</td>\n",
       "      <td>es-419</td>\n",
       "      <td>PT4H19M25S</td>\n",
       "      <td>2d</td>\n",
       "      <td>hd</td>\n",
       "      <td>5106</td>\n",
       "      <td>331</td>\n",
       "      <td>3</td>\n",
       "    </tr>\n",
       "    <tr>\n",
       "      <th>4</th>\n",
       "      <td>IZAYA37KUHk</td>\n",
       "      <td>2024-04-17T17:35:06Z</td>\n",
       "      <td>C# no es un lenguaje de backend.</td>\n",
       "      <td>Bueno, sí, CSharp es un lenguaje de back-end, ...</td>\n",
       "      <td>Dot Dager</td>\n",
       "      <td>[programación, aprender a programar, programad...</td>\n",
       "      <td>24</td>\n",
       "      <td>none</td>\n",
       "      <td>es-419</td>\n",
       "      <td>PT12M40S</td>\n",
       "      <td>2d</td>\n",
       "      <td>hd</td>\n",
       "      <td>26579</td>\n",
       "      <td>2817</td>\n",
       "      <td>246</td>\n",
       "    </tr>\n",
       "  </tbody>\n",
       "</table>\n",
       "</div>"
      ],
      "text/plain": [
       "       videoId           publishedAt  \\\n",
       "0  F9sLk3EdLP4  2024-05-05T01:03:12Z   \n",
       "1  HLC0YXVc5mA  2024-05-05T00:50:00Z   \n",
       "2  cncI9_3Io2c  2024-04-28T00:38:14Z   \n",
       "3  NxMpm10Ybd4  2024-04-22T01:36:54Z   \n",
       "4  IZAYA37KUHk  2024-04-17T17:35:06Z   \n",
       "\n",
       "                                               title  \\\n",
       "0  Falopa y programando un server DNS en C#  (par...   \n",
       "1   ¡Falopa! Ahora que tengo tu atención... ¡Falopa!   \n",
       "2                              Falopa, Q&A y... eso.   \n",
       "3  Vamo' a (charlar y) programar un server DNS en...   \n",
       "4                   C# no es un lenguaje de backend.   \n",
       "\n",
       "                                         description channelTitle  \\\n",
       "0  Usamos CodeCrafters para hacer un server DNS c...    Dot Dager   \n",
       "1  Esto es una descripción.\\n\\n•·················...    Dot Dager   \n",
       "2  Esto es una descripción.\\n\\n•·················...    Dot Dager   \n",
       "3  Usamos CodeCrafters para hacer un server DNS c...    Dot Dager   \n",
       "4  Bueno, sí, CSharp es un lenguaje de back-end, ...    Dot Dager   \n",
       "\n",
       "                                                tags categoryId  \\\n",
       "0  [programación, aprender a programar, programad...         24   \n",
       "1  [programación, aprender a programar, programad...         24   \n",
       "2  [programación, aprender a programar, programad...         24   \n",
       "3  [programación, aprender a programar, programad...         24   \n",
       "4  [programación, aprender a programar, programad...         24   \n",
       "\n",
       "  liveBroadcastContent      xd    duration dimension definition viewCount  \\\n",
       "0                 none  es-419  PT3H47M44S        2d         hd      3501   \n",
       "1             upcoming  es-419         P0D        2d         sd         0   \n",
       "2                 none  es-419  PT3H17M55S        2d         hd      4684   \n",
       "3                 none  es-419  PT4H19M25S        2d         hd      5106   \n",
       "4                 none  es-419    PT12M40S        2d         hd     26579   \n",
       "\n",
       "  likeCount commentCount  \n",
       "0       218            3  \n",
       "1         0            0  \n",
       "2       414           11  \n",
       "3       331            3  \n",
       "4      2817          246  "
      ]
     },
     "execution_count": 32,
     "metadata": {},
     "output_type": "execute_result"
    }
   ],
   "source": [
    "df2 = pd.DataFrame(data)\n",
    "df2.head()"
   ]
  },
  {
   "cell_type": "code",
   "execution_count": null,
   "metadata": {},
   "outputs": [],
   "source": [
    "# playlist_id = ''\n",
    "# print(f'https://www.youtube.com/playlist?list={playlist_id}')\n"
   ]
  }
 ],
 "metadata": {
  "kernelspec": {
   "display_name": "venv",
   "language": "python",
   "name": "python3"
  },
  "language_info": {
   "codemirror_mode": {
    "name": "ipython",
    "version": 3
   },
   "file_extension": ".py",
   "mimetype": "text/x-python",
   "name": "python",
   "nbconvert_exporter": "python",
   "pygments_lexer": "ipython3",
   "version": "3.11.3"
  }
 },
 "nbformat": 4,
 "nbformat_minor": 2
}
